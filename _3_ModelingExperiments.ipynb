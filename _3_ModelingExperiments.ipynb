{
 "cells": [
  {
   "cell_type": "code",
   "execution_count": 1,
   "metadata": {},
   "outputs": [],
   "source": [
    "import pandas as pd\n",
    "import numpy as np\n",
    "import matplotlib.pyplot as plt\n",
    "\n",
    "%run _0_All_functions.ipynb as func"
   ]
  },
  {
   "cell_type": "code",
   "execution_count": 2,
   "metadata": {},
   "outputs": [],
   "source": [
    "data_path='/Users/sananaz/Desktop/Study2/AIML/GL_python/10_Capstone/input_data.xlsx'\n",
    "desc_col='Short description'"
   ]
  },
  {
   "cell_type": "code",
   "execution_count": 3,
   "metadata": {},
   "outputs": [],
   "source": [
    "df=pd.read_excel(data_path)"
   ]
  },
  {
   "cell_type": "code",
   "execution_count": 4,
   "metadata": {},
   "outputs": [
    {
     "data": {
      "text/html": [
       "<div>\n",
       "<style scoped>\n",
       "    .dataframe tbody tr th:only-of-type {\n",
       "        vertical-align: middle;\n",
       "    }\n",
       "\n",
       "    .dataframe tbody tr th {\n",
       "        vertical-align: top;\n",
       "    }\n",
       "\n",
       "    .dataframe thead th {\n",
       "        text-align: right;\n",
       "    }\n",
       "</style>\n",
       "<table border=\"1\" class=\"dataframe\">\n",
       "  <thead>\n",
       "    <tr style=\"text-align: right;\">\n",
       "      <th></th>\n",
       "      <th>Short description</th>\n",
       "      <th>Description</th>\n",
       "      <th>Caller</th>\n",
       "      <th>Assignment group</th>\n",
       "    </tr>\n",
       "  </thead>\n",
       "  <tbody>\n",
       "    <tr>\n",
       "      <th>0</th>\n",
       "      <td>login issue</td>\n",
       "      <td>-verified user details.(employee# &amp; manager na...</td>\n",
       "      <td>spxjnwir pjlcoqds</td>\n",
       "      <td>GRP_0</td>\n",
       "    </tr>\n",
       "    <tr>\n",
       "      <th>1</th>\n",
       "      <td>outlook</td>\n",
       "      <td>\\r\\n\\r\\nreceived from: hmjdrvpb.komuaywn@gmail...</td>\n",
       "      <td>hmjdrvpb komuaywn</td>\n",
       "      <td>GRP_0</td>\n",
       "    </tr>\n",
       "    <tr>\n",
       "      <th>2</th>\n",
       "      <td>cant log in to vpn</td>\n",
       "      <td>\\r\\n\\r\\nreceived from: eylqgodm.ybqkwiam@gmail...</td>\n",
       "      <td>eylqgodm ybqkwiam</td>\n",
       "      <td>GRP_0</td>\n",
       "    </tr>\n",
       "    <tr>\n",
       "      <th>3</th>\n",
       "      <td>unable to access hr_tool page</td>\n",
       "      <td>unable to access hr_tool page</td>\n",
       "      <td>xbkucsvz gcpydteq</td>\n",
       "      <td>GRP_0</td>\n",
       "    </tr>\n",
       "    <tr>\n",
       "      <th>4</th>\n",
       "      <td>skype error</td>\n",
       "      <td>skype error</td>\n",
       "      <td>owlgqjme qhcozdfx</td>\n",
       "      <td>GRP_0</td>\n",
       "    </tr>\n",
       "  </tbody>\n",
       "</table>\n",
       "</div>"
      ],
      "text/plain": [
       "               Short description  \\\n",
       "0                    login issue   \n",
       "1                        outlook   \n",
       "2             cant log in to vpn   \n",
       "3  unable to access hr_tool page   \n",
       "4                   skype error    \n",
       "\n",
       "                                         Description             Caller  \\\n",
       "0  -verified user details.(employee# & manager na...  spxjnwir pjlcoqds   \n",
       "1  \\r\\n\\r\\nreceived from: hmjdrvpb.komuaywn@gmail...  hmjdrvpb komuaywn   \n",
       "2  \\r\\n\\r\\nreceived from: eylqgodm.ybqkwiam@gmail...  eylqgodm ybqkwiam   \n",
       "3                      unable to access hr_tool page  xbkucsvz gcpydteq   \n",
       "4                                       skype error   owlgqjme qhcozdfx   \n",
       "\n",
       "  Assignment group  \n",
       "0            GRP_0  \n",
       "1            GRP_0  \n",
       "2            GRP_0  \n",
       "3            GRP_0  \n",
       "4            GRP_0  "
      ]
     },
     "execution_count": 4,
     "metadata": {},
     "output_type": "execute_result"
    }
   ],
   "source": [
    "df.head()"
   ]
  },
  {
   "cell_type": "markdown",
   "metadata": {},
   "source": [
    "https://turbolab.in/text-classification-using-machine-learning/"
   ]
  },
  {
   "cell_type": "markdown",
   "metadata": {},
   "source": [
    "https://turbolab.in/text-classification-with-keras-and-glove-word-embeddings/"
   ]
  },
  {
   "cell_type": "code",
   "execution_count": 5,
   "metadata": {},
   "outputs": [],
   "source": [
    "#If short description and description column matches, replace description column with blank before concatenation\n",
    "for i in range(len(df)):\n",
    "    if(df.iloc[i, 0]== df.iloc[i, 1]):\n",
    "        df.iloc[i,1]=\"\""
   ]
  },
  {
   "cell_type": "code",
   "execution_count": 6,
   "metadata": {},
   "outputs": [
    {
     "data": {
      "text/html": [
       "<div>\n",
       "<style scoped>\n",
       "    .dataframe tbody tr th:only-of-type {\n",
       "        vertical-align: middle;\n",
       "    }\n",
       "\n",
       "    .dataframe tbody tr th {\n",
       "        vertical-align: top;\n",
       "    }\n",
       "\n",
       "    .dataframe thead th {\n",
       "        text-align: right;\n",
       "    }\n",
       "</style>\n",
       "<table border=\"1\" class=\"dataframe\">\n",
       "  <thead>\n",
       "    <tr style=\"text-align: right;\">\n",
       "      <th></th>\n",
       "      <th>Short description</th>\n",
       "      <th>Description</th>\n",
       "      <th>Caller</th>\n",
       "      <th>Assignment group</th>\n",
       "    </tr>\n",
       "  </thead>\n",
       "  <tbody>\n",
       "    <tr>\n",
       "      <th>0</th>\n",
       "      <td>login issue</td>\n",
       "      <td>-verified user details.(employee# &amp; manager na...</td>\n",
       "      <td>spxjnwir pjlcoqds</td>\n",
       "      <td>GRP_0</td>\n",
       "    </tr>\n",
       "    <tr>\n",
       "      <th>1</th>\n",
       "      <td>outlook</td>\n",
       "      <td>\\r\\n\\r\\nreceived from: hmjdrvpb.komuaywn@gmail...</td>\n",
       "      <td>hmjdrvpb komuaywn</td>\n",
       "      <td>GRP_0</td>\n",
       "    </tr>\n",
       "    <tr>\n",
       "      <th>2</th>\n",
       "      <td>cant log in to vpn</td>\n",
       "      <td>\\r\\n\\r\\nreceived from: eylqgodm.ybqkwiam@gmail...</td>\n",
       "      <td>eylqgodm ybqkwiam</td>\n",
       "      <td>GRP_0</td>\n",
       "    </tr>\n",
       "    <tr>\n",
       "      <th>3</th>\n",
       "      <td>unable to access hr_tool page</td>\n",
       "      <td></td>\n",
       "      <td>xbkucsvz gcpydteq</td>\n",
       "      <td>GRP_0</td>\n",
       "    </tr>\n",
       "    <tr>\n",
       "      <th>4</th>\n",
       "      <td>skype error</td>\n",
       "      <td></td>\n",
       "      <td>owlgqjme qhcozdfx</td>\n",
       "      <td>GRP_0</td>\n",
       "    </tr>\n",
       "  </tbody>\n",
       "</table>\n",
       "</div>"
      ],
      "text/plain": [
       "               Short description  \\\n",
       "0                    login issue   \n",
       "1                        outlook   \n",
       "2             cant log in to vpn   \n",
       "3  unable to access hr_tool page   \n",
       "4                   skype error    \n",
       "\n",
       "                                         Description             Caller  \\\n",
       "0  -verified user details.(employee# & manager na...  spxjnwir pjlcoqds   \n",
       "1  \\r\\n\\r\\nreceived from: hmjdrvpb.komuaywn@gmail...  hmjdrvpb komuaywn   \n",
       "2  \\r\\n\\r\\nreceived from: eylqgodm.ybqkwiam@gmail...  eylqgodm ybqkwiam   \n",
       "3                                                     xbkucsvz gcpydteq   \n",
       "4                                                     owlgqjme qhcozdfx   \n",
       "\n",
       "  Assignment group  \n",
       "0            GRP_0  \n",
       "1            GRP_0  \n",
       "2            GRP_0  \n",
       "3            GRP_0  \n",
       "4            GRP_0  "
      ]
     },
     "execution_count": 6,
     "metadata": {},
     "output_type": "execute_result"
    }
   ],
   "source": [
    "df.head()"
   ]
  },
  {
   "cell_type": "code",
   "execution_count": 7,
   "metadata": {},
   "outputs": [],
   "source": [
    "df[\"issue_description\"]=df[\"Short description\"] + \" \" + df[\"Description\"]"
   ]
  },
  {
   "cell_type": "code",
   "execution_count": 8,
   "metadata": {},
   "outputs": [],
   "source": [
    "#df= pd.DataFrame({\"issue_description\": (df[\"Short description\"] + \" \" + df[\"Description\"]).astype(str),\"Short description\": df[\"Short description\"],\"Description\": df[\"Description\"],\"AssignmentGroup\": df[\"Assignment group\"]}, \n",
    " #                                                      columns=[\"issue_description\",\"Short description\",\"Description\",\"AssignmentGroup\"])"
   ]
  },
  {
   "cell_type": "code",
   "execution_count": 9,
   "metadata": {},
   "outputs": [
    {
     "data": {
      "text/html": [
       "<div>\n",
       "<style scoped>\n",
       "    .dataframe tbody tr th:only-of-type {\n",
       "        vertical-align: middle;\n",
       "    }\n",
       "\n",
       "    .dataframe tbody tr th {\n",
       "        vertical-align: top;\n",
       "    }\n",
       "\n",
       "    .dataframe thead th {\n",
       "        text-align: right;\n",
       "    }\n",
       "</style>\n",
       "<table border=\"1\" class=\"dataframe\">\n",
       "  <thead>\n",
       "    <tr style=\"text-align: right;\">\n",
       "      <th></th>\n",
       "      <th>Short description</th>\n",
       "      <th>Description</th>\n",
       "      <th>Caller</th>\n",
       "      <th>Assignment group</th>\n",
       "      <th>issue_description</th>\n",
       "    </tr>\n",
       "  </thead>\n",
       "  <tbody>\n",
       "    <tr>\n",
       "      <th>0</th>\n",
       "      <td>login issue</td>\n",
       "      <td>-verified user details.(employee# &amp; manager na...</td>\n",
       "      <td>spxjnwir pjlcoqds</td>\n",
       "      <td>GRP_0</td>\n",
       "      <td>login issue -verified user details.(employee# ...</td>\n",
       "    </tr>\n",
       "    <tr>\n",
       "      <th>1</th>\n",
       "      <td>outlook</td>\n",
       "      <td>\\r\\n\\r\\nreceived from: hmjdrvpb.komuaywn@gmail...</td>\n",
       "      <td>hmjdrvpb komuaywn</td>\n",
       "      <td>GRP_0</td>\n",
       "      <td>outlook \\r\\n\\r\\nreceived from: hmjdrvpb.komuay...</td>\n",
       "    </tr>\n",
       "    <tr>\n",
       "      <th>2</th>\n",
       "      <td>cant log in to vpn</td>\n",
       "      <td>\\r\\n\\r\\nreceived from: eylqgodm.ybqkwiam@gmail...</td>\n",
       "      <td>eylqgodm ybqkwiam</td>\n",
       "      <td>GRP_0</td>\n",
       "      <td>cant log in to vpn \\r\\n\\r\\nreceived from: eylq...</td>\n",
       "    </tr>\n",
       "    <tr>\n",
       "      <th>3</th>\n",
       "      <td>unable to access hr_tool page</td>\n",
       "      <td></td>\n",
       "      <td>xbkucsvz gcpydteq</td>\n",
       "      <td>GRP_0</td>\n",
       "      <td>unable to access hr_tool page</td>\n",
       "    </tr>\n",
       "    <tr>\n",
       "      <th>4</th>\n",
       "      <td>skype error</td>\n",
       "      <td></td>\n",
       "      <td>owlgqjme qhcozdfx</td>\n",
       "      <td>GRP_0</td>\n",
       "      <td>skype error</td>\n",
       "    </tr>\n",
       "  </tbody>\n",
       "</table>\n",
       "</div>"
      ],
      "text/plain": [
       "               Short description  \\\n",
       "0                    login issue   \n",
       "1                        outlook   \n",
       "2             cant log in to vpn   \n",
       "3  unable to access hr_tool page   \n",
       "4                   skype error    \n",
       "\n",
       "                                         Description             Caller  \\\n",
       "0  -verified user details.(employee# & manager na...  spxjnwir pjlcoqds   \n",
       "1  \\r\\n\\r\\nreceived from: hmjdrvpb.komuaywn@gmail...  hmjdrvpb komuaywn   \n",
       "2  \\r\\n\\r\\nreceived from: eylqgodm.ybqkwiam@gmail...  eylqgodm ybqkwiam   \n",
       "3                                                     xbkucsvz gcpydteq   \n",
       "4                                                     owlgqjme qhcozdfx   \n",
       "\n",
       "  Assignment group                                  issue_description  \n",
       "0            GRP_0  login issue -verified user details.(employee# ...  \n",
       "1            GRP_0  outlook \\r\\n\\r\\nreceived from: hmjdrvpb.komuay...  \n",
       "2            GRP_0  cant log in to vpn \\r\\n\\r\\nreceived from: eylq...  \n",
       "3            GRP_0                     unable to access hr_tool page   \n",
       "4            GRP_0                                      skype error    "
      ]
     },
     "execution_count": 9,
     "metadata": {},
     "output_type": "execute_result"
    }
   ],
   "source": [
    "df.head()"
   ]
  },
  {
   "cell_type": "code",
   "execution_count": 10,
   "metadata": {},
   "outputs": [
    {
     "data": {
      "text/plain": [
       "Short description    object\n",
       "Description          object\n",
       "Caller               object\n",
       "Assignment group     object\n",
       "issue_description    object\n",
       "dtype: object"
      ]
     },
     "execution_count": 10,
     "metadata": {},
     "output_type": "execute_result"
    }
   ],
   "source": [
    "df.dtypes"
   ]
  },
  {
   "cell_type": "code",
   "execution_count": 11,
   "metadata": {},
   "outputs": [
    {
     "data": {
      "text/plain": [
       "(8408, 5)"
      ]
     },
     "execution_count": 11,
     "metadata": {},
     "output_type": "execute_result"
    }
   ],
   "source": [
    "df.dropna(inplace=True)\n",
    "df.drop_duplicates(subset = None, keep = 'first',inplace=True)\n",
    "df.shape"
   ]
  },
  {
   "cell_type": "code",
   "execution_count": null,
   "metadata": {},
   "outputs": [],
   "source": []
  },
  {
   "cell_type": "code",
   "execution_count": 12,
   "metadata": {},
   "outputs": [],
   "source": [
    "#Data cleaning \n",
    "from nltk.corpus import stopwords\n",
    "import re\n",
    "stopwords = set(stopwords.words('english'))\n",
    "\n",
    "#lower case, only alphabets, remove spaces, remove stopwords\n",
    "\n",
    "def preprocess_text(df, column_name=''):\n",
    "    \n",
    "    # Remove email Ids\n",
    "    df[column_name] = df[column_name].apply(lambda x: re.sub(r'[a-zA-Z0-9_.+-]+@[a-zA-Z0-9-]+\\.[a-zA-Z0-9-.]{2,4}',' ',str(x)))\n",
    "    \n",
    "    # Remove label url link\n",
    "    df[column_name]=df[column_name].apply(lambda x: re.sub(r'urlLink|urllink','',str(x)))\n",
    "    \n",
    "    # remove all the places where that starts with http or https\n",
    "    df[column_name]=df[column_name].apply(lambda x: re.sub(r'https?\\S+','',str(x)))   \n",
    "    \n",
    "    df[column_name] = df[column_name].apply((lambda x: re.sub(r'([xx]+)|([XX]+)|(\\d+)', '',str(x))))\n",
    "    df[column_name] = df[column_name].apply((lambda x: re.sub(r'[_D_\\n_D_\\n]', '',str(x))))\n",
    "\n",
    "\n",
    "    \n",
    "    # Strip unwanted spaces\n",
    "    df[column_name] = df[column_name].apply(lambda x: str(x).strip())\n",
    "    \n",
    "    # Select only alphabets\n",
    "    df[column_name] = df[column_name].apply(lambda x: re.sub('[^A-Za-z]+', ' ', str(x)))\n",
    "  \n",
    "    # Convert text to lowercase\n",
    "    df[column_name] = df[column_name].apply(lambda x: str(x).lower())\n",
    "\n",
    "    # Remove stopwords\n",
    "    df[column_name] = df[column_name].apply(lambda x: ' '.join([word for word in x.split() if word not in stopwords]))\n",
    "\n",
    "    #Remove hello\n",
    "    df[column_name] = df[column_name].apply(lambda x: re.sub(r'hello ', ' ', str(x)))\n",
    "\n",
    "    # Replace empty strings with Null\n",
    "    df[column_name].replace('', np.nan, inplace = True)\n",
    "    \n",
    "    #Stemming\n",
    "    df[column_name] = df[column_name].apply(lambda x: ' '.join([stemmer.stem(word) for word in str(x).split() if word not in stopwords]))\n",
    "    # Drop Null values\n",
    "    df = df.dropna()\n",
    "\n",
    "    return df\n",
    "\n",
    "df = preprocess_text(df, column_name='Description')\n",
    "df = preprocess_text(df, column_name='Short description')\n",
    "df=  preprocess_text(df, column_name='issue_description')\n",
    "                                                                    "
   ]
  },
  {
   "cell_type": "code",
   "execution_count": 13,
   "metadata": {},
   "outputs": [
    {
     "data": {
      "text/plain": [
       "(8408, 5)"
      ]
     },
     "execution_count": 13,
     "metadata": {},
     "output_type": "execute_result"
    }
   ],
   "source": [
    "df.shape"
   ]
  },
  {
   "cell_type": "code",
   "execution_count": 14,
   "metadata": {},
   "outputs": [
    {
     "name": "stderr",
     "output_type": "stream",
     "text": [
      "[nltk_data] Downloading package wordnet to /Users/sananaz/nltk_data...\n",
      "[nltk_data]   Package wordnet is already up-to-date!\n",
      "[nltk_data] Downloading package omw-1.4 to /Users/sananaz/nltk_data...\n",
      "[nltk_data]   Package omw-1.4 is already up-to-date!\n"
     ]
    }
   ],
   "source": [
    "import nltk\n",
    "nltk.download('wordnet')\n",
    "nltk.download('omw-1.4')\n",
    "from nltk.tokenize import RegexpTokenizer\n",
    "from nltk.stem import WordNetLemmatizer,PorterStemmer\n",
    "lemmatizer = WordNetLemmatizer()\n",
    "stemmer = PorterStemmer() \n",
    "\n",
    "def lemmitize(sentence):\n",
    "    sentence=str(sentence)\n",
    "    # sentence = sentence.lower()\n",
    "    tokenizer = RegexpTokenizer(r'\\w+')\n",
    "    tokens = tokenizer.tokenize(sentence)  \n",
    "    # filtered_words = [w for w in tokens if len(w) >= 2 if not w in stopwords.words('english')]\n",
    "    #stem_words = [stemmer.stem(w) for w in tokens]\n",
    "    lemma_words = [lemmatizer.lemmatize(w) for w in tokens]\n",
    "    return \" \".join(lemma_words)\n",
    "\n",
    "df['Short description'] = df['Short description'].apply(lambda s:lemmitize(s))\n",
    "df['Description'] = df['Description'].apply(lambda s:lemmitize(s))\n",
    "df['issue_description'] = df['issue_description'].apply(lambda s:lemmitize(s))"
   ]
  },
  {
   "cell_type": "code",
   "execution_count": 15,
   "metadata": {},
   "outputs": [
    {
     "data": {
      "text/plain": [
       "11"
      ]
     },
     "execution_count": 15,
     "metadata": {},
     "output_type": "execute_result"
    }
   ],
   "source": [
    "#Drop groups with count >10\n",
    "Assignment_group_ct=pd.DataFrame(df[\"Assignment group\"].value_counts()).reset_index().sort_values(by='Assignment group',ascending=False)\n",
    "Assignment_group_ct.columns=['Assignment group','Count']\n",
    "df=pd.merge(df,Assignment_group_ct,on='Assignment group')\n",
    "df=df[df[\"Count\"]>10]\n",
    "df[\"Count\"].min()"
   ]
  },
  {
   "cell_type": "code",
   "execution_count": 16,
   "metadata": {},
   "outputs": [
    {
     "data": {
      "text/plain": [
       "(8321, 6)"
      ]
     },
     "execution_count": 16,
     "metadata": {},
     "output_type": "execute_result"
    }
   ],
   "source": [
    "df.shape"
   ]
  },
  {
   "cell_type": "code",
   "execution_count": 17,
   "metadata": {},
   "outputs": [
    {
     "data": {
      "text/plain": [
       "array(['GRP_0', 'GRP_1', 'GRP_3', 'GRP_4', 'GRP_5', 'GRP_6', 'GRP_7',\n",
       "       'GRP_8', 'GRP_9', 'GRP_10', 'GRP_11', 'GRP_12', 'GRP_13', 'GRP_14',\n",
       "       'GRP_15', 'GRP_16', 'GRP_17', 'GRP_18', 'GRP_19', 'GRP_2',\n",
       "       'GRP_20', 'GRP_21', 'GRP_22', 'GRP_23', 'GRP_24', 'GRP_25',\n",
       "       'GRP_26', 'GRP_27', 'GRP_28', 'GRP_29', 'GRP_30', 'GRP_31',\n",
       "       'GRP_33', 'GRP_34', 'GRP_36', 'GRP_37', 'GRP_39', 'GRP_40',\n",
       "       'GRP_41', 'GRP_42', 'GRP_44', 'GRP_45', 'GRP_47', 'GRP_48',\n",
       "       'GRP_50', 'GRP_53', 'GRP_60', 'GRP_62', 'GRP_65'], dtype=object)"
      ]
     },
     "execution_count": 17,
     "metadata": {},
     "output_type": "execute_result"
    }
   ],
   "source": [
    "df[\"Assignment group\"].unique()\n",
    "#47 groups"
   ]
  },
  {
   "cell_type": "code",
   "execution_count": 18,
   "metadata": {},
   "outputs": [
    {
     "data": {
      "text/html": [
       "<div>\n",
       "<style scoped>\n",
       "    .dataframe tbody tr th:only-of-type {\n",
       "        vertical-align: middle;\n",
       "    }\n",
       "\n",
       "    .dataframe tbody tr th {\n",
       "        vertical-align: top;\n",
       "    }\n",
       "\n",
       "    .dataframe thead th {\n",
       "        text-align: right;\n",
       "    }\n",
       "</style>\n",
       "<table border=\"1\" class=\"dataframe\">\n",
       "  <thead>\n",
       "    <tr style=\"text-align: right;\">\n",
       "      <th></th>\n",
       "      <th>Short description</th>\n",
       "      <th>Description</th>\n",
       "      <th>Caller</th>\n",
       "      <th>Assignment group</th>\n",
       "      <th>issue_description</th>\n",
       "      <th>Count</th>\n",
       "    </tr>\n",
       "  </thead>\n",
       "  <tbody>\n",
       "    <tr>\n",
       "      <th>0</th>\n",
       "      <td>login issu</td>\n",
       "      <td>verifi user detail employe manag name check us...</td>\n",
       "      <td>spxjnwir pjlcoqds</td>\n",
       "      <td>GRP_0</td>\n",
       "      <td>login issu verifi user detail employe manag na...</td>\n",
       "      <td>3926</td>\n",
       "    </tr>\n",
       "    <tr>\n",
       "      <th>1</th>\n",
       "      <td>outlook</td>\n",
       "      <td>receiv team meet skype meet etc appear outlook...</td>\n",
       "      <td>hmjdrvpb komuaywn</td>\n",
       "      <td>GRP_0</td>\n",
       "      <td>outlook receiv team meet skype meet etc appear...</td>\n",
       "      <td>3926</td>\n",
       "    </tr>\n",
       "    <tr>\n",
       "      <th>2</th>\n",
       "      <td>cant log vpn</td>\n",
       "      <td>receiv hi cannot log vpn best</td>\n",
       "      <td>eylqgodm ybqkwiam</td>\n",
       "      <td>GRP_0</td>\n",
       "      <td>cant log vpn receiv hi cannot log vpn best</td>\n",
       "      <td>3926</td>\n",
       "    </tr>\n",
       "    <tr>\n",
       "      <th>3</th>\n",
       "      <td>unabl access hrtool page</td>\n",
       "      <td>nan</td>\n",
       "      <td>xbkucsvz gcpydteq</td>\n",
       "      <td>GRP_0</td>\n",
       "      <td>unabl access hrtool page</td>\n",
       "      <td>3926</td>\n",
       "    </tr>\n",
       "    <tr>\n",
       "      <th>4</th>\n",
       "      <td>skype error</td>\n",
       "      <td>nan</td>\n",
       "      <td>owlgqjme qhcozdfx</td>\n",
       "      <td>GRP_0</td>\n",
       "      <td>skype error</td>\n",
       "      <td>3926</td>\n",
       "    </tr>\n",
       "  </tbody>\n",
       "</table>\n",
       "</div>"
      ],
      "text/plain": [
       "          Short description  \\\n",
       "0                login issu   \n",
       "1                   outlook   \n",
       "2              cant log vpn   \n",
       "3  unabl access hrtool page   \n",
       "4               skype error   \n",
       "\n",
       "                                         Description             Caller  \\\n",
       "0  verifi user detail employe manag name check us...  spxjnwir pjlcoqds   \n",
       "1  receiv team meet skype meet etc appear outlook...  hmjdrvpb komuaywn   \n",
       "2                      receiv hi cannot log vpn best  eylqgodm ybqkwiam   \n",
       "3                                                nan  xbkucsvz gcpydteq   \n",
       "4                                                nan  owlgqjme qhcozdfx   \n",
       "\n",
       "  Assignment group                                  issue_description  Count  \n",
       "0            GRP_0  login issu verifi user detail employe manag na...   3926  \n",
       "1            GRP_0  outlook receiv team meet skype meet etc appear...   3926  \n",
       "2            GRP_0         cant log vpn receiv hi cannot log vpn best   3926  \n",
       "3            GRP_0                           unabl access hrtool page   3926  \n",
       "4            GRP_0                                        skype error   3926  "
      ]
     },
     "execution_count": 18,
     "metadata": {},
     "output_type": "execute_result"
    }
   ],
   "source": [
    "df.head()"
   ]
  },
  {
   "cell_type": "code",
   "execution_count": 19,
   "metadata": {},
   "outputs": [],
   "source": [
    "from sklearn import model_selection, preprocessing\n",
    "from sklearn.feature_extraction.text import TfidfVectorizer, CountVectorizer\n",
    "\n",
    "def wordVectorise(desc_col,df):\n",
    "# split the data into training and validation\n",
    "    train_x, valid_x, train_y, valid_y = model_selection.train_test_split(df[desc_col], df['Assignment group'],test_size=0.20, random_state=42)\n",
    "# label encode the target variable \n",
    "    encoder = preprocessing.LabelEncoder()\n",
    "    train_y = encoder.fit_transform(train_y)\n",
    "    valid_y = encoder.fit_transform(valid_y)\n",
    "# count vectorization \n",
    "\n",
    "    count_vect = CountVectorizer(analyzer='word',binary=True, ngram_range=(1, 2))\n",
    "    count_vect.fit(df[desc_col])\n",
    "    xtrain_count = count_vect.transform(train_x)\n",
    "    xvalid_count = count_vect.transform(valid_x)\n",
    "# word level tf-idf vectorization\n",
    "    tfidf_vect = TfidfVectorizer(analyzer='word', max_features=5000)\n",
    "    tfidf_vect.fit(df[desc_col])\n",
    "    xtrain_tfidf = tfidf_vect.transform(train_x)\n",
    "    xvalid_tfidf = tfidf_vect.transform(valid_x)\n",
    "# ngram level tf-idf vectorization\n",
    "    tfidf_vect_ngram = TfidfVectorizer(analyzer='word', ngram_range=(1,2))\n",
    "    tfidf_vect_ngram.fit(df[desc_col])\n",
    "    xtrain_tfidf_ngram = tfidf_vect_ngram.transform(train_x)\n",
    "    xvalid_tfidf_ngram = tfidf_vect_ngram.transform(valid_x)\n",
    "    return encoder,xtrain_count,xvalid_count,xtrain_tfidf,xvalid_tfidf,xtrain_tfidf_ngram,xvalid_tfidf_ngram,train_y, valid_y\n"
   ]
  },
  {
   "cell_type": "code",
   "execution_count": 20,
   "metadata": {},
   "outputs": [],
   "source": [
    "from sklearn import linear_model, naive_bayes, metrics\n",
    "from sklearn.metrics import classification_report\n",
    "\n",
    "def report_generation(classifier, train_data, test_data, train_y, y_test):\n",
    "    target_names = list(encoder.classes_) # output labels for report generation\n",
    "    classifier.fit(train_data, train_y)\n",
    "    pred_test = classifier.predict(test_data)\n",
    "    print(\"Accuracy :\", metrics.accuracy_score(pred_test, y_test))\n",
    "    report = classification_report(valid_y, pred_test, output_dict=True, target_names=target_names)\n",
    "    return report"
   ]
  },
  {
   "cell_type": "code",
   "execution_count": 21,
   "metadata": {},
   "outputs": [
    {
     "name": "stdout",
     "output_type": "stream",
     "text": [
      "Accuracy : 0.633033033033033\n",
      "NB Count Vectorizer Report {'precision': 0.5655391241877729, 'recall': 0.633033033033033, 'f1-score': 0.5439168517666415, 'support': 1665}\n",
      "Accuracy : 0.5693693693693693\n",
      "NB TFIDF-Word Report {'precision': 0.41509371926370603, 'recall': 0.5693693693693693, 'f1-score': 0.43004803140924436, 'support': 1665}\n",
      "Accuracy : 0.5567567567567567\n",
      "NB TFIDF-NGram Report : {'precision': 0.4206035692410589, 'recall': 0.5567567567567567, 'f1-score': 0.4121543908199965, 'support': 1665}\n"
     ]
    },
    {
     "name": "stderr",
     "output_type": "stream",
     "text": [
      "/Users/sananaz/anaconda3/lib/python3.7/site-packages/sklearn/metrics/_classification.py:1318: UndefinedMetricWarning: Precision and F-score are ill-defined and being set to 0.0 in labels with no predicted samples. Use `zero_division` parameter to control this behavior.\n",
      "  _warn_prf(average, modifier, msg_start, len(result))\n",
      "/Users/sananaz/anaconda3/lib/python3.7/site-packages/sklearn/metrics/_classification.py:1318: UndefinedMetricWarning: Precision and F-score are ill-defined and being set to 0.0 in labels with no predicted samples. Use `zero_division` parameter to control this behavior.\n",
      "  _warn_prf(average, modifier, msg_start, len(result))\n",
      "/Users/sananaz/anaconda3/lib/python3.7/site-packages/sklearn/metrics/_classification.py:1318: UndefinedMetricWarning: Precision and F-score are ill-defined and being set to 0.0 in labels with no predicted samples. Use `zero_division` parameter to control this behavior.\n",
      "  _warn_prf(average, modifier, msg_start, len(result))\n",
      "/Users/sananaz/anaconda3/lib/python3.7/site-packages/sklearn/metrics/_classification.py:1318: UndefinedMetricWarning: Precision and F-score are ill-defined and being set to 0.0 in labels with no predicted samples. Use `zero_division` parameter to control this behavior.\n",
      "  _warn_prf(average, modifier, msg_start, len(result))\n",
      "/Users/sananaz/anaconda3/lib/python3.7/site-packages/sklearn/metrics/_classification.py:1318: UndefinedMetricWarning: Precision and F-score are ill-defined and being set to 0.0 in labels with no predicted samples. Use `zero_division` parameter to control this behavior.\n",
      "  _warn_prf(average, modifier, msg_start, len(result))\n",
      "/Users/sananaz/anaconda3/lib/python3.7/site-packages/sklearn/metrics/_classification.py:1318: UndefinedMetricWarning: Precision and F-score are ill-defined and being set to 0.0 in labels with no predicted samples. Use `zero_division` parameter to control this behavior.\n",
      "  _warn_prf(average, modifier, msg_start, len(result))\n",
      "/Users/sananaz/anaconda3/lib/python3.7/site-packages/sklearn/metrics/_classification.py:1318: UndefinedMetricWarning: Precision and F-score are ill-defined and being set to 0.0 in labels with no predicted samples. Use `zero_division` parameter to control this behavior.\n",
      "  _warn_prf(average, modifier, msg_start, len(result))\n",
      "/Users/sananaz/anaconda3/lib/python3.7/site-packages/sklearn/metrics/_classification.py:1318: UndefinedMetricWarning: Precision and F-score are ill-defined and being set to 0.0 in labels with no predicted samples. Use `zero_division` parameter to control this behavior.\n",
      "  _warn_prf(average, modifier, msg_start, len(result))\n",
      "/Users/sananaz/anaconda3/lib/python3.7/site-packages/sklearn/metrics/_classification.py:1318: UndefinedMetricWarning: Precision and F-score are ill-defined and being set to 0.0 in labels with no predicted samples. Use `zero_division` parameter to control this behavior.\n",
      "  _warn_prf(average, modifier, msg_start, len(result))\n"
     ]
    }
   ],
   "source": [
    "# Naive Bayes and 'Short description'\n",
    "\n",
    "encoder,xtrain_count,xvalid_count,xtrain_tfidf,xvalid_tfidf,xtrain_tfidf_ngram,xvalid_tfidf_ngram,train_y,valid_y=wordVectorise('Short description',df)\n",
    "#\"NB Count Vectorizer Report\"\n",
    "classifier = naive_bayes.MultinomialNB()\n",
    "report = report_generation(classifier, xtrain_count, xvalid_count, train_y, valid_y)\n",
    "print(\"NB Count Vectorizer Report\", report['weighted avg'])\n",
    "\n",
    "#\"NB TFIDF-Word Report\"\n",
    "report = report_generation(classifier, xtrain_tfidf, xvalid_tfidf, train_y, valid_y)\n",
    "print(\"NB TFIDF-Word Report\", report['weighted avg'])\n",
    "\n",
    "#NB TFIDF-NGram Report\"\n",
    "\n",
    "report = report_generation(classifier, xtrain_tfidf_ngram, xvalid_tfidf_ngram, train_y, valid_y)\n",
    "print(\"NB TFIDF-NGram Report :\", report['weighted avg'])\n"
   ]
  },
  {
   "cell_type": "code",
   "execution_count": 22,
   "metadata": {},
   "outputs": [
    {
     "name": "stdout",
     "output_type": "stream",
     "text": [
      "Accuracy : 0.5759759759759759\n",
      "NB Count Vectorizer Report {'precision': 0.4906623630994553, 'recall': 0.5759759759759759, 'f1-score': 0.4588053225428902, 'support': 1665}\n",
      "Accuracy : 0.5501501501501501\n",
      "NB TFIDF-Word Report {'precision': 0.4019573311947608, 'recall': 0.5501501501501501, 'f1-score': 0.403050924092272, 'support': 1665}\n",
      "Accuracy : 0.5411411411411411\n",
      "NB TFIDF-NGram Report : {'precision': 0.3503869543686347, 'recall': 0.5411411411411411, 'f1-score': 0.38889671882366406, 'support': 1665}\n"
     ]
    },
    {
     "name": "stderr",
     "output_type": "stream",
     "text": [
      "/Users/sananaz/anaconda3/lib/python3.7/site-packages/sklearn/metrics/_classification.py:1318: UndefinedMetricWarning: Precision and F-score are ill-defined and being set to 0.0 in labels with no predicted samples. Use `zero_division` parameter to control this behavior.\n",
      "  _warn_prf(average, modifier, msg_start, len(result))\n",
      "/Users/sananaz/anaconda3/lib/python3.7/site-packages/sklearn/metrics/_classification.py:1318: UndefinedMetricWarning: Precision and F-score are ill-defined and being set to 0.0 in labels with no predicted samples. Use `zero_division` parameter to control this behavior.\n",
      "  _warn_prf(average, modifier, msg_start, len(result))\n",
      "/Users/sananaz/anaconda3/lib/python3.7/site-packages/sklearn/metrics/_classification.py:1318: UndefinedMetricWarning: Precision and F-score are ill-defined and being set to 0.0 in labels with no predicted samples. Use `zero_division` parameter to control this behavior.\n",
      "  _warn_prf(average, modifier, msg_start, len(result))\n",
      "/Users/sananaz/anaconda3/lib/python3.7/site-packages/sklearn/metrics/_classification.py:1318: UndefinedMetricWarning: Precision and F-score are ill-defined and being set to 0.0 in labels with no predicted samples. Use `zero_division` parameter to control this behavior.\n",
      "  _warn_prf(average, modifier, msg_start, len(result))\n",
      "/Users/sananaz/anaconda3/lib/python3.7/site-packages/sklearn/metrics/_classification.py:1318: UndefinedMetricWarning: Precision and F-score are ill-defined and being set to 0.0 in labels with no predicted samples. Use `zero_division` parameter to control this behavior.\n",
      "  _warn_prf(average, modifier, msg_start, len(result))\n",
      "/Users/sananaz/anaconda3/lib/python3.7/site-packages/sklearn/metrics/_classification.py:1318: UndefinedMetricWarning: Precision and F-score are ill-defined and being set to 0.0 in labels with no predicted samples. Use `zero_division` parameter to control this behavior.\n",
      "  _warn_prf(average, modifier, msg_start, len(result))\n",
      "/Users/sananaz/anaconda3/lib/python3.7/site-packages/sklearn/metrics/_classification.py:1318: UndefinedMetricWarning: Precision and F-score are ill-defined and being set to 0.0 in labels with no predicted samples. Use `zero_division` parameter to control this behavior.\n",
      "  _warn_prf(average, modifier, msg_start, len(result))\n",
      "/Users/sananaz/anaconda3/lib/python3.7/site-packages/sklearn/metrics/_classification.py:1318: UndefinedMetricWarning: Precision and F-score are ill-defined and being set to 0.0 in labels with no predicted samples. Use `zero_division` parameter to control this behavior.\n",
      "  _warn_prf(average, modifier, msg_start, len(result))\n",
      "/Users/sananaz/anaconda3/lib/python3.7/site-packages/sklearn/metrics/_classification.py:1318: UndefinedMetricWarning: Precision and F-score are ill-defined and being set to 0.0 in labels with no predicted samples. Use `zero_division` parameter to control this behavior.\n",
      "  _warn_prf(average, modifier, msg_start, len(result))\n"
     ]
    }
   ],
   "source": [
    "# Naive Bayes and 'Description'\n",
    "\n",
    "encoder,xtrain_count,xvalid_count,xtrain_tfidf,xvalid_tfidf,xtrain_tfidf_ngram,xvalid_tfidf_ngram,train_y,valid_y=wordVectorise('Description',df)\n",
    "#\"NB Count Vectorizer Report\"\n",
    "classifier = naive_bayes.MultinomialNB()\n",
    "report = report_generation(classifier, xtrain_count, xvalid_count, train_y, valid_y)\n",
    "print(\"NB Count Vectorizer Report\", report['weighted avg'])\n",
    "\n",
    "#\"NB TFIDF-Word Report\"\n",
    "report = report_generation(classifier, xtrain_tfidf, xvalid_tfidf, train_y, valid_y)\n",
    "print(\"NB TFIDF-Word Report\", report['weighted avg'])\n",
    "\n",
    "#NB TFIDF-NGram Report\"\n",
    "\n",
    "report = report_generation(classifier, xtrain_tfidf_ngram, xvalid_tfidf_ngram, train_y, valid_y)\n",
    "print(\"NB TFIDF-NGram Report :\", report['weighted avg'])\n"
   ]
  },
  {
   "cell_type": "code",
   "execution_count": 23,
   "metadata": {},
   "outputs": [
    {
     "name": "stdout",
     "output_type": "stream",
     "text": [
      "Accuracy : 0.6228228228228229\n",
      "NB Count Vectorizer Report {'precision': 0.5562499014431856, 'recall': 0.6228228228228229, 'f1-score': 0.519099792479646, 'support': 1665}\n",
      "Accuracy : 0.5771771771771772\n",
      "NB TFIDF-Word Report {'precision': 0.46599475153048747, 'recall': 0.5771771771771772, 'f1-score': 0.4417888883245432, 'support': 1665}\n",
      "Accuracy : 0.5495495495495496\n",
      "NB TFIDF-NGram Report : {'precision': 0.40475965217269994, 'recall': 0.5495495495495496, 'f1-score': 0.4016165241377213, 'support': 1665}\n"
     ]
    },
    {
     "name": "stderr",
     "output_type": "stream",
     "text": [
      "/Users/sananaz/anaconda3/lib/python3.7/site-packages/sklearn/metrics/_classification.py:1318: UndefinedMetricWarning: Precision and F-score are ill-defined and being set to 0.0 in labels with no predicted samples. Use `zero_division` parameter to control this behavior.\n",
      "  _warn_prf(average, modifier, msg_start, len(result))\n",
      "/Users/sananaz/anaconda3/lib/python3.7/site-packages/sklearn/metrics/_classification.py:1318: UndefinedMetricWarning: Precision and F-score are ill-defined and being set to 0.0 in labels with no predicted samples. Use `zero_division` parameter to control this behavior.\n",
      "  _warn_prf(average, modifier, msg_start, len(result))\n",
      "/Users/sananaz/anaconda3/lib/python3.7/site-packages/sklearn/metrics/_classification.py:1318: UndefinedMetricWarning: Precision and F-score are ill-defined and being set to 0.0 in labels with no predicted samples. Use `zero_division` parameter to control this behavior.\n",
      "  _warn_prf(average, modifier, msg_start, len(result))\n",
      "/Users/sananaz/anaconda3/lib/python3.7/site-packages/sklearn/metrics/_classification.py:1318: UndefinedMetricWarning: Precision and F-score are ill-defined and being set to 0.0 in labels with no predicted samples. Use `zero_division` parameter to control this behavior.\n",
      "  _warn_prf(average, modifier, msg_start, len(result))\n",
      "/Users/sananaz/anaconda3/lib/python3.7/site-packages/sklearn/metrics/_classification.py:1318: UndefinedMetricWarning: Precision and F-score are ill-defined and being set to 0.0 in labels with no predicted samples. Use `zero_division` parameter to control this behavior.\n",
      "  _warn_prf(average, modifier, msg_start, len(result))\n",
      "/Users/sananaz/anaconda3/lib/python3.7/site-packages/sklearn/metrics/_classification.py:1318: UndefinedMetricWarning: Precision and F-score are ill-defined and being set to 0.0 in labels with no predicted samples. Use `zero_division` parameter to control this behavior.\n",
      "  _warn_prf(average, modifier, msg_start, len(result))\n",
      "/Users/sananaz/anaconda3/lib/python3.7/site-packages/sklearn/metrics/_classification.py:1318: UndefinedMetricWarning: Precision and F-score are ill-defined and being set to 0.0 in labels with no predicted samples. Use `zero_division` parameter to control this behavior.\n",
      "  _warn_prf(average, modifier, msg_start, len(result))\n",
      "/Users/sananaz/anaconda3/lib/python3.7/site-packages/sklearn/metrics/_classification.py:1318: UndefinedMetricWarning: Precision and F-score are ill-defined and being set to 0.0 in labels with no predicted samples. Use `zero_division` parameter to control this behavior.\n",
      "  _warn_prf(average, modifier, msg_start, len(result))\n",
      "/Users/sananaz/anaconda3/lib/python3.7/site-packages/sklearn/metrics/_classification.py:1318: UndefinedMetricWarning: Precision and F-score are ill-defined and being set to 0.0 in labels with no predicted samples. Use `zero_division` parameter to control this behavior.\n",
      "  _warn_prf(average, modifier, msg_start, len(result))\n"
     ]
    }
   ],
   "source": [
    "# Naive Bayes and 'issue_description'\n",
    "\n",
    "encoder,xtrain_count,xvalid_count,xtrain_tfidf,xvalid_tfidf,xtrain_tfidf_ngram,xvalid_tfidf_ngram,train_y,valid_y=wordVectorise('issue_description',df)\n",
    "#\"NB Count Vectorizer Report\"\n",
    "classifier = naive_bayes.MultinomialNB()\n",
    "report = report_generation(classifier, xtrain_count, xvalid_count, train_y, valid_y)\n",
    "print(\"NB Count Vectorizer Report\", report['weighted avg'])\n",
    "\n",
    "#\"NB TFIDF-Word Report\"\n",
    "report = report_generation(classifier, xtrain_tfidf, xvalid_tfidf, train_y, valid_y)\n",
    "print(\"NB TFIDF-Word Report\", report['weighted avg'])\n",
    "\n",
    "#NB TFIDF-NGram Report\"\n",
    "\n",
    "report = report_generation(classifier, xtrain_tfidf_ngram, xvalid_tfidf_ngram, train_y, valid_y)\n",
    "print(\"NB TFIDF-NGram Report :\", report['weighted avg'])\n"
   ]
  },
  {
   "cell_type": "code",
   "execution_count": 24,
   "metadata": {},
   "outputs": [
    {
     "name": "stdout",
     "output_type": "stream",
     "text": [
      "Accuracy : 0.6714714714714715\n",
      "Logistic: {'precision': 0.6371770048694274, 'recall': 0.6714714714714715, 'f1-score': 0.6263485312665192, 'support': 1665}\n"
     ]
    },
    {
     "name": "stderr",
     "output_type": "stream",
     "text": [
      "/Users/sananaz/anaconda3/lib/python3.7/site-packages/sklearn/linear_model/_logistic.py:818: ConvergenceWarning: lbfgs failed to converge (status=1):\n",
      "STOP: TOTAL NO. of ITERATIONS REACHED LIMIT.\n",
      "\n",
      "Increase the number of iterations (max_iter) or scale the data as shown in:\n",
      "    https://scikit-learn.org/stable/modules/preprocessing.html\n",
      "Please also refer to the documentation for alternative solver options:\n",
      "    https://scikit-learn.org/stable/modules/linear_model.html#logistic-regression\n",
      "  extra_warning_msg=_LOGISTIC_SOLVER_CONVERGENCE_MSG,\n",
      "/Users/sananaz/anaconda3/lib/python3.7/site-packages/sklearn/metrics/_classification.py:1318: UndefinedMetricWarning: Precision and F-score are ill-defined and being set to 0.0 in labels with no predicted samples. Use `zero_division` parameter to control this behavior.\n",
      "  _warn_prf(average, modifier, msg_start, len(result))\n",
      "/Users/sananaz/anaconda3/lib/python3.7/site-packages/sklearn/metrics/_classification.py:1318: UndefinedMetricWarning: Precision and F-score are ill-defined and being set to 0.0 in labels with no predicted samples. Use `zero_division` parameter to control this behavior.\n",
      "  _warn_prf(average, modifier, msg_start, len(result))\n",
      "/Users/sananaz/anaconda3/lib/python3.7/site-packages/sklearn/metrics/_classification.py:1318: UndefinedMetricWarning: Precision and F-score are ill-defined and being set to 0.0 in labels with no predicted samples. Use `zero_division` parameter to control this behavior.\n",
      "  _warn_prf(average, modifier, msg_start, len(result))\n"
     ]
    }
   ],
   "source": [
    "#Try logistic regression with 'Issue Description'\n",
    "from sklearn.multiclass import OneVsRestClassifier\n",
    "\n",
    "\n",
    "train_x, valid_x, train_y, valid_y = model_selection.train_test_split(df['issue_description'], df['Assignment group'],test_size=0.20, random_state=42)\n",
    "# label encode the target variable \n",
    "encoder = preprocessing.LabelEncoder()\n",
    "train_y = encoder.fit_transform(train_y)\n",
    "valid_y = encoder.fit_transform(valid_y)\n",
    "# count vectorization \n",
    "\n",
    "count_vect = CountVectorizer(analyzer='word',binary=True, ngram_range=(1, 2))\n",
    "count_vect.fit(df[desc_col])\n",
    "xtrain_count = count_vect.transform(train_x)\n",
    "xvalid_count = count_vect.transform(valid_x)\n",
    "\n",
    "\n",
    "#encoder,xtrain_count,xvalid_count,xtrain_tfidf,xvalid_tfidf,xtrain_tfidf_ngram,xvalid_tfidf_ngram,train_y,valid_y=wordVectorise('issue_description',df)\n",
    "classifier = linear_model.LogisticRegression(solver='lbfgs')    \n",
    "report = report_generation(classifier, xtrain_count, xvalid_count, train_y, valid_y) \n",
    "print(\"Logistic:\", report['weighted avg'])\n",
    "\n",
    "pred_test = classifier.predict(xvalid_count)\n",
    "pred_inversed = encoder.inverse_transform(pred_test)\n",
    "y_test_inversed = encoder.inverse_transform(valid_y)"
   ]
  },
  {
   "cell_type": "code",
   "execution_count": 25,
   "metadata": {},
   "outputs": [
    {
     "data": {
      "text/plain": [
       "(1665,)"
      ]
     },
     "execution_count": 25,
     "metadata": {},
     "output_type": "execute_result"
    }
   ],
   "source": [
    "pred_inversed.shape"
   ]
  },
  {
   "cell_type": "code",
   "execution_count": 26,
   "metadata": {},
   "outputs": [],
   "source": [
    "df_logistic=pd.DataFrame(valid_x).reset_index()"
   ]
  },
  {
   "cell_type": "code",
   "execution_count": 27,
   "metadata": {},
   "outputs": [
    {
     "data": {
      "text/html": [
       "<div>\n",
       "<style scoped>\n",
       "    .dataframe tbody tr th:only-of-type {\n",
       "        vertical-align: middle;\n",
       "    }\n",
       "\n",
       "    .dataframe tbody tr th {\n",
       "        vertical-align: top;\n",
       "    }\n",
       "\n",
       "    .dataframe thead th {\n",
       "        text-align: right;\n",
       "    }\n",
       "</style>\n",
       "<table border=\"1\" class=\"dataframe\">\n",
       "  <thead>\n",
       "    <tr style=\"text-align: right;\">\n",
       "      <th></th>\n",
       "      <th>index</th>\n",
       "      <th>issue_description</th>\n",
       "      <th>pred</th>\n",
       "      <th>y</th>\n",
       "    </tr>\n",
       "  </thead>\n",
       "  <tbody>\n",
       "    <tr>\n",
       "      <th>0</th>\n",
       "      <td>4169</td>\n",
       "      <td>network problem india offic telephon summari n...</td>\n",
       "      <td>GRP_0</td>\n",
       "      <td>GRP_4</td>\n",
       "    </tr>\n",
       "    <tr>\n",
       "      <th>1</th>\n",
       "      <td>7565</td>\n",
       "      <td>erp schulung raum kann beamer nicht verbinden</td>\n",
       "      <td>GRP_0</td>\n",
       "      <td>GRP_28</td>\n",
       "    </tr>\n",
       "    <tr>\n",
       "      <th>2</th>\n",
       "      <td>6974</td>\n",
       "      <td>mm grade chang materi engin tool valid save de...</td>\n",
       "      <td>GRP_29</td>\n",
       "      <td>GRP_20</td>\n",
       "    </tr>\n",
       "    <tr>\n",
       "      <th>3</th>\n",
       "      <td>2465</td>\n",
       "      <td>guestcompani access wifi receiv good morn coiv...</td>\n",
       "      <td>GRP_0</td>\n",
       "      <td>GRP_0</td>\n",
       "    </tr>\n",
       "    <tr>\n",
       "      <th>4</th>\n",
       "      <td>3378</td>\n",
       "      <td>log erp password need chang receiv hi plea ass...</td>\n",
       "      <td>GRP_0</td>\n",
       "      <td>GRP_0</td>\n",
       "    </tr>\n",
       "  </tbody>\n",
       "</table>\n",
       "</div>"
      ],
      "text/plain": [
       "   index                                  issue_description    pred       y\n",
       "0   4169  network problem india offic telephon summari n...   GRP_0   GRP_4\n",
       "1   7565      erp schulung raum kann beamer nicht verbinden   GRP_0  GRP_28\n",
       "2   6974  mm grade chang materi engin tool valid save de...  GRP_29  GRP_20\n",
       "3   2465  guestcompani access wifi receiv good morn coiv...   GRP_0   GRP_0\n",
       "4   3378  log erp password need chang receiv hi plea ass...   GRP_0   GRP_0"
      ]
     },
     "execution_count": 27,
     "metadata": {},
     "output_type": "execute_result"
    }
   ],
   "source": [
    "df_logistic['pred']=pred_inversed\n",
    "df_logistic['y']=y_test_inversed \n",
    "df_logistic.head()"
   ]
  },
  {
   "cell_type": "code",
   "execution_count": 28,
   "metadata": {},
   "outputs": [],
   "source": [
    "df_logistic.to_csv(\"onlyLogistic.csv\")"
   ]
  },
  {
   "cell_type": "markdown",
   "metadata": {},
   "source": [
    "### Two Stage Model"
   ]
  },
  {
   "cell_type": "code",
   "execution_count": 29,
   "metadata": {},
   "outputs": [],
   "source": [
    "df[\"target_grp_0\"]=df[\"Assignment group\"].apply(lambda x: 1 if x==\"GRP_0\" else 0)"
   ]
  },
  {
   "cell_type": "code",
   "execution_count": 30,
   "metadata": {},
   "outputs": [
    {
     "data": {
      "text/plain": [
       "0    4395\n",
       "1    3926\n",
       "Name: target_grp_0, dtype: int64"
      ]
     },
     "execution_count": 30,
     "metadata": {},
     "output_type": "execute_result"
    }
   ],
   "source": [
    "df.target_grp_0.value_counts()"
   ]
  },
  {
   "cell_type": "markdown",
   "metadata": {},
   "source": [
    "### Build Model 1 - only classifies Group 0 vs others"
   ]
  },
  {
   "cell_type": "code",
   "execution_count": 31,
   "metadata": {},
   "outputs": [
    {
     "name": "stdout",
     "output_type": "stream",
     "text": [
      "Accuracy : 0.8540540540540541\n",
      "LogisticRegression Count Vectorizer Report : {'precision': 0.8560750053659719, 'recall': 0.8540540540540541, 'f1-score': 0.8541992874814327, 'support': 1665}\n"
     ]
    }
   ],
   "source": [
    "import random\n",
    "# split the data into training and validation\n",
    "train_x1, valid_x1, train_y1, valid_y1 = model_selection.train_test_split(df[['issue_description','Assignment group']], df['target_grp_0'],test_size=0.20, random_state=42)\n",
    "# label encode the target variable \n",
    "encoder = preprocessing.LabelEncoder()\n",
    "train_y1 = encoder.fit_transform(train_y1)\n",
    "valid_y1 = encoder.fit_transform(valid_y1)\n",
    "# count vectorization \n",
    "\n",
    "count_vect1 = CountVectorizer(analyzer='word',ngram_range=(1,2))\n",
    "count_vect1.fit(df['issue_description'])\n",
    "xtrain_count1 = count_vect1.transform(train_x1['issue_description'])\n",
    "xvalid_count1 = count_vect1.transform(valid_x1['issue_description'])\n",
    "\n",
    "classifier1 = linear_model.LogisticRegression()   \n",
    "#report = report_generation(classifier1, xtrain_count, xvalid_count, train_y1, valid_y1) \n",
    "\n",
    "target_names1 = list(encoder.classes_) # output labels for report generation\n",
    "\n",
    "classifier1.fit(xtrain_count1, train_y1)\n",
    "pred_test1 = classifier1.predict(xvalid_count1)\n",
    "\n",
    "print(\"Accuracy :\", metrics.accuracy_score(pred_test1, valid_y1))\n",
    "report = classification_report(valid_y1, pred_test1, output_dict=True, target_names=target_names1)\n",
    "\n",
    "pred_inversed1 = encoder.inverse_transform(pred_test1)\n",
    "y_test_inversed1 = encoder.inverse_transform(valid_y1)\n",
    "    \n",
    "print(\"LogisticRegression Count Vectorizer Report :\", report['weighted avg'])\n"
   ]
  },
  {
   "cell_type": "code",
   "execution_count": 32,
   "metadata": {},
   "outputs": [
    {
     "data": {
      "text/plain": [
       "(1665,)"
      ]
     },
     "execution_count": 32,
     "metadata": {},
     "output_type": "execute_result"
    }
   ],
   "source": [
    "pred_test1.shape"
   ]
  },
  {
   "cell_type": "code",
   "execution_count": 33,
   "metadata": {},
   "outputs": [
    {
     "data": {
      "text/plain": [
       "(1665, 2)"
      ]
     },
     "execution_count": 33,
     "metadata": {},
     "output_type": "execute_result"
    }
   ],
   "source": [
    "valid_x1.shape"
   ]
  },
  {
   "cell_type": "code",
   "execution_count": 34,
   "metadata": {},
   "outputs": [
    {
     "data": {
      "text/html": [
       "<div>\n",
       "<style scoped>\n",
       "    .dataframe tbody tr th:only-of-type {\n",
       "        vertical-align: middle;\n",
       "    }\n",
       "\n",
       "    .dataframe tbody tr th {\n",
       "        vertical-align: top;\n",
       "    }\n",
       "\n",
       "    .dataframe thead th {\n",
       "        text-align: right;\n",
       "    }\n",
       "</style>\n",
       "<table border=\"1\" class=\"dataframe\">\n",
       "  <thead>\n",
       "    <tr style=\"text-align: right;\">\n",
       "      <th></th>\n",
       "      <th>issue_description</th>\n",
       "      <th>Assignment group</th>\n",
       "    </tr>\n",
       "  </thead>\n",
       "  <tbody>\n",
       "    <tr>\n",
       "      <th>4169</th>\n",
       "      <td>network problem india offic telephon summari n...</td>\n",
       "      <td>GRP_4</td>\n",
       "    </tr>\n",
       "    <tr>\n",
       "      <th>7565</th>\n",
       "      <td>erp schulung raum kann beamer nicht verbinden</td>\n",
       "      <td>GRP_28</td>\n",
       "    </tr>\n",
       "    <tr>\n",
       "      <th>6974</th>\n",
       "      <td>mm grade chang materi engin tool valid save de...</td>\n",
       "      <td>GRP_20</td>\n",
       "    </tr>\n",
       "    <tr>\n",
       "      <th>2465</th>\n",
       "      <td>guestcompani access wifi receiv good morn coiv...</td>\n",
       "      <td>GRP_0</td>\n",
       "    </tr>\n",
       "    <tr>\n",
       "      <th>3378</th>\n",
       "      <td>log erp password need chang receiv hi plea ass...</td>\n",
       "      <td>GRP_0</td>\n",
       "    </tr>\n",
       "  </tbody>\n",
       "</table>\n",
       "</div>"
      ],
      "text/plain": [
       "                                      issue_description Assignment group\n",
       "4169  network problem india offic telephon summari n...            GRP_4\n",
       "7565      erp schulung raum kann beamer nicht verbinden           GRP_28\n",
       "6974  mm grade chang materi engin tool valid save de...           GRP_20\n",
       "2465  guestcompani access wifi receiv good morn coiv...            GRP_0\n",
       "3378  log erp password need chang receiv hi plea ass...            GRP_0"
      ]
     },
     "execution_count": 34,
     "metadata": {},
     "output_type": "execute_result"
    }
   ],
   "source": [
    "valid_x1.head()"
   ]
  },
  {
   "cell_type": "code",
   "execution_count": 35,
   "metadata": {},
   "outputs": [],
   "source": [
    "valid_x1['Predict_model1']=pred_test1"
   ]
  },
  {
   "cell_type": "code",
   "execution_count": null,
   "metadata": {},
   "outputs": [],
   "source": []
  },
  {
   "cell_type": "markdown",
   "metadata": {},
   "source": [
    "### Model2 - classifies groups other than group 0"
   ]
  },
  {
   "cell_type": "code",
   "execution_count": 36,
   "metadata": {},
   "outputs": [],
   "source": [
    "###For model 2 - use only data apart from group 0\n",
    "\n",
    "df2=df[df['target_grp_0']==0].reset_index()"
   ]
  },
  {
   "cell_type": "code",
   "execution_count": 37,
   "metadata": {},
   "outputs": [
    {
     "data": {
      "text/html": [
       "<div>\n",
       "<style scoped>\n",
       "    .dataframe tbody tr th:only-of-type {\n",
       "        vertical-align: middle;\n",
       "    }\n",
       "\n",
       "    .dataframe tbody tr th {\n",
       "        vertical-align: top;\n",
       "    }\n",
       "\n",
       "    .dataframe thead th {\n",
       "        text-align: right;\n",
       "    }\n",
       "</style>\n",
       "<table border=\"1\" class=\"dataframe\">\n",
       "  <thead>\n",
       "    <tr style=\"text-align: right;\">\n",
       "      <th></th>\n",
       "      <th>index</th>\n",
       "      <th>Short description</th>\n",
       "      <th>Description</th>\n",
       "      <th>Caller</th>\n",
       "      <th>Assignment group</th>\n",
       "      <th>issue_description</th>\n",
       "      <th>Count</th>\n",
       "      <th>target_grp_0</th>\n",
       "    </tr>\n",
       "  </thead>\n",
       "  <tbody>\n",
       "    <tr>\n",
       "      <th>0</th>\n",
       "      <td>3926</td>\n",
       "      <td>event critic hostnam compani com valu mountpoi...</td>\n",
       "      <td>event critic hostnam compani com valu mountpoi...</td>\n",
       "      <td>jyoqwxhz clhxsoqy</td>\n",
       "      <td>GRP_1</td>\n",
       "      <td>event critic hostnam compani com valu mountpoi...</td>\n",
       "      <td>31</td>\n",
       "      <td>0</td>\n",
       "    </tr>\n",
       "    <tr>\n",
       "      <th>1</th>\n",
       "      <td>3927</td>\n",
       "      <td>password infosthryda epir south amerirtca erp ...</td>\n",
       "      <td>today erp work attempt use erp client show mes...</td>\n",
       "      <td>kbnfxpsy gehxzayq</td>\n",
       "      <td>GRP_1</td>\n",
       "      <td>password infosthryda epir south amerirtca erp ...</td>\n",
       "      <td>31</td>\n",
       "      <td>0</td>\n",
       "    </tr>\n",
       "    <tr>\n",
       "      <th>2</th>\n",
       "      <td>3928</td>\n",
       "      <td>problem ticketno fie chg back</td>\n",
       "      <td>regard ticketno fie chg key user report attach...</td>\n",
       "      <td>kbnfxpsy gehxzayq</td>\n",
       "      <td>GRP_1</td>\n",
       "      <td>problem ticketno fie chg back regard ticketno ...</td>\n",
       "      <td>31</td>\n",
       "      <td>0</td>\n",
       "    </tr>\n",
       "    <tr>\n",
       "      <th>3</th>\n",
       "      <td>3929</td>\n",
       "      <td>job sistat fail jobschedul</td>\n",
       "      <td>receiv job sistat fail jobschedul</td>\n",
       "      <td>bpctwhsn kzqsbmtp</td>\n",
       "      <td>GRP_1</td>\n",
       "      <td>job sistat fail jobschedul receiv job sistat f...</td>\n",
       "      <td>31</td>\n",
       "      <td>0</td>\n",
       "    </tr>\n",
       "    <tr>\n",
       "      <th>4</th>\n",
       "      <td>3930</td>\n",
       "      <td>em event critic si valu datafil size perpsrglo...</td>\n",
       "      <td>host hostnam compani com target type databas i...</td>\n",
       "      <td>mnlazfsr mtqrkhnx</td>\n",
       "      <td>GRP_1</td>\n",
       "      <td>em event critic si valu datafil size perpsrglo...</td>\n",
       "      <td>31</td>\n",
       "      <td>0</td>\n",
       "    </tr>\n",
       "  </tbody>\n",
       "</table>\n",
       "</div>"
      ],
      "text/plain": [
       "   index                                  Short description  \\\n",
       "0   3926  event critic hostnam compani com valu mountpoi...   \n",
       "1   3927  password infosthryda epir south amerirtca erp ...   \n",
       "2   3928                      problem ticketno fie chg back   \n",
       "3   3929                         job sistat fail jobschedul   \n",
       "4   3930  em event critic si valu datafil size perpsrglo...   \n",
       "\n",
       "                                         Description             Caller  \\\n",
       "0  event critic hostnam compani com valu mountpoi...  jyoqwxhz clhxsoqy   \n",
       "1  today erp work attempt use erp client show mes...  kbnfxpsy gehxzayq   \n",
       "2  regard ticketno fie chg key user report attach...  kbnfxpsy gehxzayq   \n",
       "3                  receiv job sistat fail jobschedul  bpctwhsn kzqsbmtp   \n",
       "4  host hostnam compani com target type databas i...  mnlazfsr mtqrkhnx   \n",
       "\n",
       "  Assignment group                                  issue_description  Count  \\\n",
       "0            GRP_1  event critic hostnam compani com valu mountpoi...     31   \n",
       "1            GRP_1  password infosthryda epir south amerirtca erp ...     31   \n",
       "2            GRP_1  problem ticketno fie chg back regard ticketno ...     31   \n",
       "3            GRP_1  job sistat fail jobschedul receiv job sistat f...     31   \n",
       "4            GRP_1  em event critic si valu datafil size perpsrglo...     31   \n",
       "\n",
       "   target_grp_0  \n",
       "0             0  \n",
       "1             0  \n",
       "2             0  \n",
       "3             0  \n",
       "4             0  "
      ]
     },
     "execution_count": 37,
     "metadata": {},
     "output_type": "execute_result"
    }
   ],
   "source": [
    "df2.head()"
   ]
  },
  {
   "cell_type": "code",
   "execution_count": 38,
   "metadata": {},
   "outputs": [
    {
     "data": {
      "text/plain": [
       "0    4395\n",
       "Name: target_grp_0, dtype: int64"
      ]
     },
     "execution_count": 38,
     "metadata": {},
     "output_type": "execute_result"
    }
   ],
   "source": [
    "df2['target_grp_0'].value_counts()"
   ]
  },
  {
   "cell_type": "code",
   "execution_count": 39,
   "metadata": {},
   "outputs": [
    {
     "name": "stdout",
     "output_type": "stream",
     "text": [
      "Accuracy : 0.5779294653014789\n",
      "LogisticRegression Count Vectorizer Report : {'precision': 0.5777954218427583, 'recall': 0.5779294653014789, 'f1-score': 0.5556988072499512, 'support': 879}\n"
     ]
    },
    {
     "name": "stderr",
     "output_type": "stream",
     "text": [
      "/Users/sananaz/anaconda3/lib/python3.7/site-packages/sklearn/linear_model/_logistic.py:818: ConvergenceWarning: lbfgs failed to converge (status=1):\n",
      "STOP: TOTAL NO. of ITERATIONS REACHED LIMIT.\n",
      "\n",
      "Increase the number of iterations (max_iter) or scale the data as shown in:\n",
      "    https://scikit-learn.org/stable/modules/preprocessing.html\n",
      "Please also refer to the documentation for alternative solver options:\n",
      "    https://scikit-learn.org/stable/modules/linear_model.html#logistic-regression\n",
      "  extra_warning_msg=_LOGISTIC_SOLVER_CONVERGENCE_MSG,\n",
      "/Users/sananaz/anaconda3/lib/python3.7/site-packages/sklearn/metrics/_classification.py:1318: UndefinedMetricWarning: Precision and F-score are ill-defined and being set to 0.0 in labels with no predicted samples. Use `zero_division` parameter to control this behavior.\n",
      "  _warn_prf(average, modifier, msg_start, len(result))\n",
      "/Users/sananaz/anaconda3/lib/python3.7/site-packages/sklearn/metrics/_classification.py:1318: UndefinedMetricWarning: Precision and F-score are ill-defined and being set to 0.0 in labels with no predicted samples. Use `zero_division` parameter to control this behavior.\n",
      "  _warn_prf(average, modifier, msg_start, len(result))\n",
      "/Users/sananaz/anaconda3/lib/python3.7/site-packages/sklearn/metrics/_classification.py:1318: UndefinedMetricWarning: Precision and F-score are ill-defined and being set to 0.0 in labels with no predicted samples. Use `zero_division` parameter to control this behavior.\n",
      "  _warn_prf(average, modifier, msg_start, len(result))\n"
     ]
    }
   ],
   "source": [
    "train_x2, valid_x2, train_y2, valid_y2 = model_selection.train_test_split(df2['issue_description'], df2['Assignment group'],test_size=0.20, random_state=42)\n",
    "# label encode the target variable \n",
    "encoder2 = preprocessing.LabelEncoder()\n",
    "train_y2 = encoder2.fit_transform(train_y2)\n",
    "valid_y2 = encoder2.fit_transform(valid_y2)\n",
    "# count vectorization \n",
    "\n",
    "count_vect2 = CountVectorizer(analyzer='word',ngram_range=(1,2))\n",
    "count_vect2.fit(df2['issue_description'])\n",
    "xtrain_count2 = count_vect2.transform(train_x2)\n",
    "xvalid_count2 = count_vect2.transform(valid_x2)\n",
    "\n",
    "classifier2 = linear_model.LogisticRegression()   \n",
    "#report = report_generation(classifier2, xtrain_count, xvalid_count, train_y2, valid_y2) \n",
    "\n",
    "target_names2 = list(encoder2.classes_) # output labels for report generation\n",
    "\n",
    "classifier2.fit(xtrain_count2, train_y2)\n",
    "pred_test2 = classifier2.predict(xvalid_count2)\n",
    "\n",
    "print(\"Accuracy :\", metrics.accuracy_score(pred_test2, valid_y2))\n",
    "report = classification_report(valid_y2, pred_test2, output_dict=True, target_names=target_names2)\n",
    "\n",
    "pred_inversed2 = encoder2.inverse_transform(pred_test2)\n",
    "y_test_inversed2 = encoder2.inverse_transform(valid_y2)\n",
    "    \n",
    "print(\"LogisticRegression Count Vectorizer Report :\", report['weighted avg'])\n",
    "\n"
   ]
  },
  {
   "cell_type": "code",
   "execution_count": 40,
   "metadata": {},
   "outputs": [
    {
     "name": "stdout",
     "output_type": "stream",
     "text": [
      "Title:\tcircuit outag india plant primari telecomvendor circuit sinc et site secondari telecomvendor type outag network circuit power plea specifi type outag top cert site yes yes na start et schedul mainten power na yes na compani power provid power schedul mainten network na yes na compani maint yes provid maint ticket site backup circuit yes yes na backup circuit activ yes yes na site contact notifi phone email na yes na remot dial na yes na equip reset na yes na verifi site work backup circuit yes yes na vendor ticket globaltelecom verizon telecomvendor telecomvendor telecomvendor sr notifi gsc yes na cert start yes na addit diagnost\n",
      "True labels:\tGRP_6\n",
      "Predicted labels:\tGRP_8\n",
      "\n",
      "\n",
      "Title:\tp pc lab hook microscop get bsod login\n",
      "True labels:\tGRP_9\n",
      "Predicted labels:\tGRP_8\n",
      "\n",
      "\n"
     ]
    }
   ],
   "source": [
    "randomlist =random.sample(range(1, 880), 2)\n",
    "for i in randomlist:\n",
    "    print('Title:\\t{}\\nTrue labels:\\t{}\\nPredicted labels:\\t{}\\n\\n'.format(\n",
    "    train_x2[i],(y_test_inversed2[i]),(pred_inversed2[i])))"
   ]
  },
  {
   "cell_type": "markdown",
   "metadata": {},
   "source": [
    "### Overall Scoring - using valid1"
   ]
  },
  {
   "cell_type": "code",
   "execution_count": 41,
   "metadata": {},
   "outputs": [],
   "source": [
    "valid_=valid_x1[valid_x1['Predict_model1']==0]"
   ]
  },
  {
   "cell_type": "code",
   "execution_count": 42,
   "metadata": {},
   "outputs": [
    {
     "data": {
      "text/html": [
       "<div>\n",
       "<style scoped>\n",
       "    .dataframe tbody tr th:only-of-type {\n",
       "        vertical-align: middle;\n",
       "    }\n",
       "\n",
       "    .dataframe tbody tr th {\n",
       "        vertical-align: top;\n",
       "    }\n",
       "\n",
       "    .dataframe thead th {\n",
       "        text-align: right;\n",
       "    }\n",
       "</style>\n",
       "<table border=\"1\" class=\"dataframe\">\n",
       "  <thead>\n",
       "    <tr style=\"text-align: right;\">\n",
       "      <th></th>\n",
       "      <th>issue_description</th>\n",
       "      <th>Assignment group</th>\n",
       "      <th>Predict_model1</th>\n",
       "    </tr>\n",
       "  </thead>\n",
       "  <tbody>\n",
       "    <tr>\n",
       "      <th>6974</th>\n",
       "      <td>mm grade chang materi engin tool valid save de...</td>\n",
       "      <td>GRP_20</td>\n",
       "      <td>0</td>\n",
       "    </tr>\n",
       "    <tr>\n",
       "      <th>5916</th>\n",
       "      <td>hostnam hrtool tainterfac app qa averag sampl ...</td>\n",
       "      <td>GRP_12</td>\n",
       "      <td>0</td>\n",
       "    </tr>\n",
       "    <tr>\n",
       "      <th>4638</th>\n",
       "      <td>job job fail jobschedul receiv job job fail jo...</td>\n",
       "      <td>GRP_8</td>\n",
       "      <td>0</td>\n",
       "    </tr>\n",
       "    <tr>\n",
       "      <th>5339</th>\n",
       "      <td>job job fail jobschedul receiv job job fail jo...</td>\n",
       "      <td>GRP_9</td>\n",
       "      <td>0</td>\n",
       "    </tr>\n",
       "    <tr>\n",
       "      <th>7071</th>\n",
       "      <td>access ethic train modul error messag welcom c...</td>\n",
       "      <td>GRP_23</td>\n",
       "      <td>0</td>\n",
       "    </tr>\n",
       "  </tbody>\n",
       "</table>\n",
       "</div>"
      ],
      "text/plain": [
       "                                      issue_description Assignment group  \\\n",
       "6974  mm grade chang materi engin tool valid save de...           GRP_20   \n",
       "5916  hostnam hrtool tainterfac app qa averag sampl ...           GRP_12   \n",
       "4638  job job fail jobschedul receiv job job fail jo...            GRP_8   \n",
       "5339  job job fail jobschedul receiv job job fail jo...            GRP_9   \n",
       "7071  access ethic train modul error messag welcom c...           GRP_23   \n",
       "\n",
       "      Predict_model1  \n",
       "6974               0  \n",
       "5916               0  \n",
       "4638               0  \n",
       "5339               0  \n",
       "7071               0  "
      ]
     },
     "execution_count": 42,
     "metadata": {},
     "output_type": "execute_result"
    }
   ],
   "source": [
    "valid_.head()"
   ]
  },
  {
   "cell_type": "code",
   "execution_count": 43,
   "metadata": {},
   "outputs": [
    {
     "data": {
      "text/plain": [
       "(832, 3)"
      ]
     },
     "execution_count": 43,
     "metadata": {},
     "output_type": "execute_result"
    }
   ],
   "source": [
    "valid_.shape"
   ]
  },
  {
   "cell_type": "code",
   "execution_count": 44,
   "metadata": {},
   "outputs": [],
   "source": [
    "xvalid_count_ = count_vect2.transform(valid_['issue_description'])\n",
    "#target_names_ = list(encoder.classes_) # output labels for report generation\n",
    "pred_test_ = classifier2.predict(xvalid_count_)"
   ]
  },
  {
   "cell_type": "code",
   "execution_count": 45,
   "metadata": {},
   "outputs": [
    {
     "data": {
      "text/plain": [
       "(832,)"
      ]
     },
     "execution_count": 45,
     "metadata": {},
     "output_type": "execute_result"
    }
   ],
   "source": [
    "pred_test_.shape"
   ]
  },
  {
   "cell_type": "code",
   "execution_count": 46,
   "metadata": {},
   "outputs": [],
   "source": [
    "pred_inversed_ = encoder2.inverse_transform(pred_test_)"
   ]
  },
  {
   "cell_type": "code",
   "execution_count": 47,
   "metadata": {},
   "outputs": [
    {
     "data": {
      "text/plain": [
       "(832,)"
      ]
     },
     "execution_count": 47,
     "metadata": {},
     "output_type": "execute_result"
    }
   ],
   "source": [
    "pred_inversed_.shape"
   ]
  },
  {
   "cell_type": "code",
   "execution_count": 48,
   "metadata": {},
   "outputs": [
    {
     "name": "stderr",
     "output_type": "stream",
     "text": [
      "/Users/sananaz/anaconda3/lib/python3.7/site-packages/ipykernel_launcher.py:1: SettingWithCopyWarning: \n",
      "A value is trying to be set on a copy of a slice from a DataFrame.\n",
      "Try using .loc[row_indexer,col_indexer] = value instead\n",
      "\n",
      "See the caveats in the documentation: http://pandas.pydata.org/pandas-docs/stable/indexing.html#indexing-view-versus-copy\n",
      "  \"\"\"Entry point for launching an IPython kernel.\n"
     ]
    }
   ],
   "source": [
    "valid_[\"Predict_model2\"]=pred_inversed_"
   ]
  },
  {
   "cell_type": "code",
   "execution_count": 49,
   "metadata": {},
   "outputs": [
    {
     "name": "stderr",
     "output_type": "stream",
     "text": [
      "/Users/sananaz/anaconda3/lib/python3.7/site-packages/ipykernel_launcher.py:1: SettingWithCopyWarning: \n",
      "A value is trying to be set on a copy of a slice from a DataFrame.\n",
      "Try using .loc[row_indexer,col_indexer] = value instead\n",
      "\n",
      "See the caveats in the documentation: http://pandas.pydata.org/pandas-docs/stable/indexing.html#indexing-view-versus-copy\n",
      "  \"\"\"Entry point for launching an IPython kernel.\n"
     ]
    },
    {
     "data": {
      "text/html": [
       "<div>\n",
       "<style scoped>\n",
       "    .dataframe tbody tr th:only-of-type {\n",
       "        vertical-align: middle;\n",
       "    }\n",
       "\n",
       "    .dataframe tbody tr th {\n",
       "        vertical-align: top;\n",
       "    }\n",
       "\n",
       "    .dataframe thead th {\n",
       "        text-align: right;\n",
       "    }\n",
       "</style>\n",
       "<table border=\"1\" class=\"dataframe\">\n",
       "  <thead>\n",
       "    <tr style=\"text-align: right;\">\n",
       "      <th></th>\n",
       "      <th>issue_description</th>\n",
       "      <th>Assignment group</th>\n",
       "      <th>Predict_model1</th>\n",
       "      <th>Predict_model2</th>\n",
       "      <th>final_pred</th>\n",
       "    </tr>\n",
       "  </thead>\n",
       "  <tbody>\n",
       "    <tr>\n",
       "      <th>6974</th>\n",
       "      <td>mm grade chang materi engin tool valid save de...</td>\n",
       "      <td>GRP_20</td>\n",
       "      <td>0</td>\n",
       "      <td>GRP_20</td>\n",
       "      <td>GRP_20</td>\n",
       "    </tr>\n",
       "    <tr>\n",
       "      <th>5916</th>\n",
       "      <td>hostnam hrtool tainterfac app qa averag sampl ...</td>\n",
       "      <td>GRP_12</td>\n",
       "      <td>0</td>\n",
       "      <td>GRP_12</td>\n",
       "      <td>GRP_12</td>\n",
       "    </tr>\n",
       "    <tr>\n",
       "      <th>4638</th>\n",
       "      <td>job job fail jobschedul receiv job job fail jo...</td>\n",
       "      <td>GRP_8</td>\n",
       "      <td>0</td>\n",
       "      <td>GRP_8</td>\n",
       "      <td>GRP_8</td>\n",
       "    </tr>\n",
       "    <tr>\n",
       "      <th>5339</th>\n",
       "      <td>job job fail jobschedul receiv job job fail jo...</td>\n",
       "      <td>GRP_9</td>\n",
       "      <td>0</td>\n",
       "      <td>GRP_8</td>\n",
       "      <td>GRP_8</td>\n",
       "    </tr>\n",
       "    <tr>\n",
       "      <th>7071</th>\n",
       "      <td>access ethic train modul error messag welcom c...</td>\n",
       "      <td>GRP_23</td>\n",
       "      <td>0</td>\n",
       "      <td>GRP_23</td>\n",
       "      <td>GRP_23</td>\n",
       "    </tr>\n",
       "  </tbody>\n",
       "</table>\n",
       "</div>"
      ],
      "text/plain": [
       "                                      issue_description Assignment group  \\\n",
       "6974  mm grade chang materi engin tool valid save de...           GRP_20   \n",
       "5916  hostnam hrtool tainterfac app qa averag sampl ...           GRP_12   \n",
       "4638  job job fail jobschedul receiv job job fail jo...            GRP_8   \n",
       "5339  job job fail jobschedul receiv job job fail jo...            GRP_9   \n",
       "7071  access ethic train modul error messag welcom c...           GRP_23   \n",
       "\n",
       "      Predict_model1 Predict_model2 final_pred  \n",
       "6974               0         GRP_20     GRP_20  \n",
       "5916               0         GRP_12     GRP_12  \n",
       "4638               0          GRP_8      GRP_8  \n",
       "5339               0          GRP_8      GRP_8  \n",
       "7071               0         GRP_23     GRP_23  "
      ]
     },
     "execution_count": 49,
     "metadata": {},
     "output_type": "execute_result"
    }
   ],
   "source": [
    "valid_['final_pred']=valid_['Predict_model2']\n",
    "valid_.head()"
   ]
  },
  {
   "cell_type": "code",
   "execution_count": 50,
   "metadata": {},
   "outputs": [
    {
     "name": "stderr",
     "output_type": "stream",
     "text": [
      "/Users/sananaz/anaconda3/lib/python3.7/site-packages/ipykernel_launcher.py:2: SettingWithCopyWarning: \n",
      "A value is trying to be set on a copy of a slice from a DataFrame.\n",
      "Try using .loc[row_indexer,col_indexer] = value instead\n",
      "\n",
      "See the caveats in the documentation: http://pandas.pydata.org/pandas-docs/stable/indexing.html#indexing-view-versus-copy\n",
      "  \n"
     ]
    },
    {
     "data": {
      "text/html": [
       "<div>\n",
       "<style scoped>\n",
       "    .dataframe tbody tr th:only-of-type {\n",
       "        vertical-align: middle;\n",
       "    }\n",
       "\n",
       "    .dataframe tbody tr th {\n",
       "        vertical-align: top;\n",
       "    }\n",
       "\n",
       "    .dataframe thead th {\n",
       "        text-align: right;\n",
       "    }\n",
       "</style>\n",
       "<table border=\"1\" class=\"dataframe\">\n",
       "  <thead>\n",
       "    <tr style=\"text-align: right;\">\n",
       "      <th></th>\n",
       "      <th>issue_description</th>\n",
       "      <th>Assignment group</th>\n",
       "      <th>Predict_model1</th>\n",
       "      <th>final_pred</th>\n",
       "    </tr>\n",
       "  </thead>\n",
       "  <tbody>\n",
       "    <tr>\n",
       "      <th>4169</th>\n",
       "      <td>network problem india offic telephon summari n...</td>\n",
       "      <td>GRP_4</td>\n",
       "      <td>1</td>\n",
       "      <td>GRP_0</td>\n",
       "    </tr>\n",
       "    <tr>\n",
       "      <th>7565</th>\n",
       "      <td>erp schulung raum kann beamer nicht verbinden</td>\n",
       "      <td>GRP_28</td>\n",
       "      <td>1</td>\n",
       "      <td>GRP_0</td>\n",
       "    </tr>\n",
       "    <tr>\n",
       "      <th>2465</th>\n",
       "      <td>guestcompani access wifi receiv good morn coiv...</td>\n",
       "      <td>GRP_0</td>\n",
       "      <td>1</td>\n",
       "      <td>GRP_0</td>\n",
       "    </tr>\n",
       "    <tr>\n",
       "      <th>3378</th>\n",
       "      <td>log erp password need chang receiv hi plea ass...</td>\n",
       "      <td>GRP_0</td>\n",
       "      <td>1</td>\n",
       "      <td>GRP_0</td>\n",
       "    </tr>\n",
       "    <tr>\n",
       "      <th>1429</th>\n",
       "      <td>unabl login es protel unabl login es portal</td>\n",
       "      <td>GRP_0</td>\n",
       "      <td>1</td>\n",
       "      <td>GRP_0</td>\n",
       "    </tr>\n",
       "  </tbody>\n",
       "</table>\n",
       "</div>"
      ],
      "text/plain": [
       "                                      issue_description Assignment group  \\\n",
       "4169  network problem india offic telephon summari n...            GRP_4   \n",
       "7565      erp schulung raum kann beamer nicht verbinden           GRP_28   \n",
       "2465  guestcompani access wifi receiv good morn coiv...            GRP_0   \n",
       "3378  log erp password need chang receiv hi plea ass...            GRP_0   \n",
       "1429        unabl login es protel unabl login es portal            GRP_0   \n",
       "\n",
       "      Predict_model1 final_pred  \n",
       "4169               1      GRP_0  \n",
       "7565               1      GRP_0  \n",
       "2465               1      GRP_0  \n",
       "3378               1      GRP_0  \n",
       "1429               1      GRP_0  "
      ]
     },
     "execution_count": 50,
     "metadata": {},
     "output_type": "execute_result"
    }
   ],
   "source": [
    "model1_valid=valid_x1[valid_x1['Predict_model1']==1]\n",
    "model1_valid['final_pred']='GRP_0'\n",
    "model1_valid.head()"
   ]
  },
  {
   "cell_type": "code",
   "execution_count": 51,
   "metadata": {},
   "outputs": [
    {
     "name": "stderr",
     "output_type": "stream",
     "text": [
      "/Users/sananaz/anaconda3/lib/python3.7/site-packages/pandas/core/frame.py:6692: FutureWarning: Sorting because non-concatenation axis is not aligned. A future version\n",
      "of pandas will change to not sort by default.\n",
      "\n",
      "To accept the future behavior, pass 'sort=False'.\n",
      "\n",
      "To retain the current behavior and silence the warning, pass 'sort=True'.\n",
      "\n",
      "  sort=sort)\n"
     ]
    },
    {
     "data": {
      "text/plain": [
       "(1665, 5)"
      ]
     },
     "execution_count": 51,
     "metadata": {},
     "output_type": "execute_result"
    }
   ],
   "source": [
    "valid_=valid_.append(model1_valid)\n",
    "valid_.shape"
   ]
  },
  {
   "cell_type": "code",
   "execution_count": 52,
   "metadata": {},
   "outputs": [
    {
     "name": "stdout",
     "output_type": "stream",
     "text": [
      "Accuracy : 0.7735735735735736\n",
      "2 stage LogisticRegression Count Vectorizer Report : {'precision': 0.7763627369056952, 'recall': 0.7735735735735736, 'f1-score': 0.7646506802867101, 'support': 1665}\n"
     ]
    }
   ],
   "source": [
    "print(\"Accuracy :\", metrics.accuracy_score(valid_['final_pred'], valid_['Assignment group']))\n",
    "report = classification_report(valid_['Assignment group'], valid_['final_pred'], output_dict=True)\n",
    "print(\"2 stage LogisticRegression Count Vectorizer Report :\", report['weighted avg'])"
   ]
  },
  {
   "cell_type": "code",
   "execution_count": 53,
   "metadata": {},
   "outputs": [],
   "source": [
    "valid_=valid_.reset_index()"
   ]
  },
  {
   "cell_type": "code",
   "execution_count": 54,
   "metadata": {},
   "outputs": [],
   "source": [
    "valid_.to_csv(\"Pred_2stage.csv\")"
   ]
  },
  {
   "cell_type": "code",
   "execution_count": null,
   "metadata": {},
   "outputs": [],
   "source": []
  }
 ],
 "metadata": {
  "kernelspec": {
   "display_name": "Python 3",
   "language": "python",
   "name": "python3"
  },
  "language_info": {
   "codemirror_mode": {
    "name": "ipython",
    "version": 3
   },
   "file_extension": ".py",
   "mimetype": "text/x-python",
   "name": "python",
   "nbconvert_exporter": "python",
   "pygments_lexer": "ipython3",
   "version": "3.7.0"
  }
 },
 "nbformat": 4,
 "nbformat_minor": 2
}
