{
 "cells": [
  {
   "cell_type": "code",
   "execution_count": 7,
   "metadata": {},
   "outputs": [],
   "source": [
    "# Load EDA Pkgs\n",
    "import pandas as pd\n",
    "import numpy as np"
   ]
  },
  {
   "cell_type": "code",
   "execution_count": 8,
   "metadata": {},
   "outputs": [],
   "source": [
    "# Load Data Viz Pkgs\n",
    "import seaborn as sns"
   ]
  },
  {
   "cell_type": "code",
   "execution_count": 11,
   "metadata": {},
   "outputs": [],
   "source": [
    "# Load Text Cleaning Pkgs\n",
    "import neattext.functions as nfx"
   ]
  },
  {
   "cell_type": "code",
   "execution_count": 12,
   "metadata": {},
   "outputs": [],
   "source": [
    "# Load ML Pkgs\n",
    "# Estimators\n",
    "from sklearn.linear_model import LogisticRegression\n",
    "from sklearn.naive_bayes import MultinomialNB\n",
    "\n",
    "# Transformers\n",
    "from sklearn.feature_extraction.text import CountVectorizer\n",
    "from sklearn.model_selection import train_test_split\n",
    "from sklearn.metrics import accuracy_score,classification_report,confusion_matrix"
   ]
  },
  {
   "cell_type": "code",
   "execution_count": 18,
   "metadata": {},
   "outputs": [],
   "source": [
    "from nltk.corpus import stopwords\n",
    "import re"
   ]
  },
  {
   "cell_type": "code",
   "execution_count": 13,
   "metadata": {},
   "outputs": [],
   "source": [
    "df = pd.read_excel('input_data.xlsx')"
   ]
  },
  {
   "cell_type": "code",
   "execution_count": 14,
   "metadata": {},
   "outputs": [
    {
     "data": {
      "text/html": [
       "<div>\n",
       "<style scoped>\n",
       "    .dataframe tbody tr th:only-of-type {\n",
       "        vertical-align: middle;\n",
       "    }\n",
       "\n",
       "    .dataframe tbody tr th {\n",
       "        vertical-align: top;\n",
       "    }\n",
       "\n",
       "    .dataframe thead th {\n",
       "        text-align: right;\n",
       "    }\n",
       "</style>\n",
       "<table border=\"1\" class=\"dataframe\">\n",
       "  <thead>\n",
       "    <tr style=\"text-align: right;\">\n",
       "      <th></th>\n",
       "      <th>Short description</th>\n",
       "      <th>Description</th>\n",
       "      <th>Caller</th>\n",
       "      <th>Assignment group</th>\n",
       "    </tr>\n",
       "  </thead>\n",
       "  <tbody>\n",
       "    <tr>\n",
       "      <th>0</th>\n",
       "      <td>login issue</td>\n",
       "      <td>-verified user details.(employee# &amp; manager na...</td>\n",
       "      <td>spxjnwir pjlcoqds</td>\n",
       "      <td>GRP_0</td>\n",
       "    </tr>\n",
       "    <tr>\n",
       "      <th>1</th>\n",
       "      <td>outlook</td>\n",
       "      <td>\\r\\n\\r\\nreceived from: hmjdrvpb.komuaywn@gmail...</td>\n",
       "      <td>hmjdrvpb komuaywn</td>\n",
       "      <td>GRP_0</td>\n",
       "    </tr>\n",
       "    <tr>\n",
       "      <th>2</th>\n",
       "      <td>cant log in to vpn</td>\n",
       "      <td>\\r\\n\\r\\nreceived from: eylqgodm.ybqkwiam@gmail...</td>\n",
       "      <td>eylqgodm ybqkwiam</td>\n",
       "      <td>GRP_0</td>\n",
       "    </tr>\n",
       "    <tr>\n",
       "      <th>3</th>\n",
       "      <td>unable to access hr_tool page</td>\n",
       "      <td>unable to access hr_tool page</td>\n",
       "      <td>xbkucsvz gcpydteq</td>\n",
       "      <td>GRP_0</td>\n",
       "    </tr>\n",
       "    <tr>\n",
       "      <th>4</th>\n",
       "      <td>skype error</td>\n",
       "      <td>skype error</td>\n",
       "      <td>owlgqjme qhcozdfx</td>\n",
       "      <td>GRP_0</td>\n",
       "    </tr>\n",
       "    <tr>\n",
       "      <th>...</th>\n",
       "      <td>...</td>\n",
       "      <td>...</td>\n",
       "      <td>...</td>\n",
       "      <td>...</td>\n",
       "    </tr>\n",
       "    <tr>\n",
       "      <th>8495</th>\n",
       "      <td>emails not coming in from zz mail</td>\n",
       "      <td>\\r\\n\\r\\nreceived from: avglmrts.vhqmtiua@gmail...</td>\n",
       "      <td>avglmrts vhqmtiua</td>\n",
       "      <td>GRP_29</td>\n",
       "    </tr>\n",
       "    <tr>\n",
       "      <th>8496</th>\n",
       "      <td>telephony_software issue</td>\n",
       "      <td>telephony_software issue</td>\n",
       "      <td>rbozivdq gmlhrtvp</td>\n",
       "      <td>GRP_0</td>\n",
       "    </tr>\n",
       "    <tr>\n",
       "      <th>8497</th>\n",
       "      <td>vip2: windows password reset for tifpdchb pedx...</td>\n",
       "      <td>vip2: windows password reset for tifpdchb pedx...</td>\n",
       "      <td>oybwdsgx oxyhwrfz</td>\n",
       "      <td>GRP_0</td>\n",
       "    </tr>\n",
       "    <tr>\n",
       "      <th>8498</th>\n",
       "      <td>machine nÃ£o estÃ¡ funcionando</td>\n",
       "      <td>i am unable to access the machine utilities to...</td>\n",
       "      <td>ufawcgob aowhxjky</td>\n",
       "      <td>GRP_62</td>\n",
       "    </tr>\n",
       "    <tr>\n",
       "      <th>8499</th>\n",
       "      <td>an mehreren pc`s lassen sich verschiedene prgr...</td>\n",
       "      <td>an mehreren pc`s lassen sich verschiedene prgr...</td>\n",
       "      <td>kqvbrspl jyzoklfx</td>\n",
       "      <td>GRP_49</td>\n",
       "    </tr>\n",
       "  </tbody>\n",
       "</table>\n",
       "<p>8500 rows × 4 columns</p>\n",
       "</div>"
      ],
      "text/plain": [
       "                                      Short description  \\\n",
       "0                                           login issue   \n",
       "1                                               outlook   \n",
       "2                                    cant log in to vpn   \n",
       "3                         unable to access hr_tool page   \n",
       "4                                          skype error    \n",
       "...                                                 ...   \n",
       "8495                  emails not coming in from zz mail   \n",
       "8496                           telephony_software issue   \n",
       "8497  vip2: windows password reset for tifpdchb pedx...   \n",
       "8498                     machine nÃ£o estÃ¡ funcionando   \n",
       "8499  an mehreren pc`s lassen sich verschiedene prgr...   \n",
       "\n",
       "                                            Description             Caller  \\\n",
       "0     -verified user details.(employee# & manager na...  spxjnwir pjlcoqds   \n",
       "1     \\r\\n\\r\\nreceived from: hmjdrvpb.komuaywn@gmail...  hmjdrvpb komuaywn   \n",
       "2     \\r\\n\\r\\nreceived from: eylqgodm.ybqkwiam@gmail...  eylqgodm ybqkwiam   \n",
       "3                         unable to access hr_tool page  xbkucsvz gcpydteq   \n",
       "4                                          skype error   owlgqjme qhcozdfx   \n",
       "...                                                 ...                ...   \n",
       "8495  \\r\\n\\r\\nreceived from: avglmrts.vhqmtiua@gmail...  avglmrts vhqmtiua   \n",
       "8496                           telephony_software issue  rbozivdq gmlhrtvp   \n",
       "8497  vip2: windows password reset for tifpdchb pedx...  oybwdsgx oxyhwrfz   \n",
       "8498  i am unable to access the machine utilities to...  ufawcgob aowhxjky   \n",
       "8499  an mehreren pc`s lassen sich verschiedene prgr...  kqvbrspl jyzoklfx   \n",
       "\n",
       "     Assignment group  \n",
       "0               GRP_0  \n",
       "1               GRP_0  \n",
       "2               GRP_0  \n",
       "3               GRP_0  \n",
       "4               GRP_0  \n",
       "...               ...  \n",
       "8495           GRP_29  \n",
       "8496            GRP_0  \n",
       "8497            GRP_0  \n",
       "8498           GRP_62  \n",
       "8499           GRP_49  \n",
       "\n",
       "[8500 rows x 4 columns]"
      ]
     },
     "execution_count": 14,
     "metadata": {},
     "output_type": "execute_result"
    }
   ],
   "source": [
    "df"
   ]
  },
  {
   "cell_type": "code",
   "execution_count": 15,
   "metadata": {},
   "outputs": [
    {
     "data": {
      "text/plain": [
       "GRP_0     3976\n",
       "GRP_8      661\n",
       "GRP_24     289\n",
       "GRP_12     257\n",
       "GRP_9      252\n",
       "          ... \n",
       "GRP_64       1\n",
       "GRP_67       1\n",
       "GRP_35       1\n",
       "GRP_70       1\n",
       "GRP_61       1\n",
       "Name: Assignment group, Length: 74, dtype: int64"
      ]
     },
     "execution_count": 15,
     "metadata": {},
     "output_type": "execute_result"
    }
   ],
   "source": [
    "df['Assignment group'].value_counts()"
   ]
  },
  {
   "cell_type": "code",
   "execution_count": 17,
   "metadata": {},
   "outputs": [],
   "source": [
    "desc_col='Short description'\n",
    "#Data cleaning \n",
    "\n",
    "#lower case, only alphabets, remove spaces, remove stopwords\n",
    "df['text_clean'] = df[desc_col].apply(lambda x: str(x).lower())\n",
    "df['text_clean'] = df['text_clean'].apply(lambda x: re.sub('[^a-zA-z0-9_\\s]','',str(x)))\n",
    "stopwords = set(stopwords.words('english'))\n",
    "df['text_clean'] = df['text_clean'].apply(lambda x: ' '.join([word for word in x.split() if word not in stopwords]))\n",
    "df['text_clean'] = df['text_clean'].apply(lambda x: str(x).strip())\n",
    "\n",
    "                                                                    "
   ]
  },
  {
   "cell_type": "code",
   "execution_count": 19,
   "metadata": {},
   "outputs": [
    {
     "data": {
      "text/html": [
       "<div>\n",
       "<style scoped>\n",
       "    .dataframe tbody tr th:only-of-type {\n",
       "        vertical-align: middle;\n",
       "    }\n",
       "\n",
       "    .dataframe tbody tr th {\n",
       "        vertical-align: top;\n",
       "    }\n",
       "\n",
       "    .dataframe thead th {\n",
       "        text-align: right;\n",
       "    }\n",
       "</style>\n",
       "<table border=\"1\" class=\"dataframe\">\n",
       "  <thead>\n",
       "    <tr style=\"text-align: right;\">\n",
       "      <th></th>\n",
       "      <th>Short description</th>\n",
       "      <th>Description</th>\n",
       "      <th>Caller</th>\n",
       "      <th>Assignment group</th>\n",
       "      <th>text_clean</th>\n",
       "    </tr>\n",
       "  </thead>\n",
       "  <tbody>\n",
       "    <tr>\n",
       "      <th>0</th>\n",
       "      <td>login issue</td>\n",
       "      <td>-verified user details.(employee# &amp; manager na...</td>\n",
       "      <td>spxjnwir pjlcoqds</td>\n",
       "      <td>GRP_0</td>\n",
       "      <td>login issue</td>\n",
       "    </tr>\n",
       "    <tr>\n",
       "      <th>1</th>\n",
       "      <td>outlook</td>\n",
       "      <td>\\r\\n\\r\\nreceived from: hmjdrvpb.komuaywn@gmail...</td>\n",
       "      <td>hmjdrvpb komuaywn</td>\n",
       "      <td>GRP_0</td>\n",
       "      <td>outlook</td>\n",
       "    </tr>\n",
       "    <tr>\n",
       "      <th>2</th>\n",
       "      <td>cant log in to vpn</td>\n",
       "      <td>\\r\\n\\r\\nreceived from: eylqgodm.ybqkwiam@gmail...</td>\n",
       "      <td>eylqgodm ybqkwiam</td>\n",
       "      <td>GRP_0</td>\n",
       "      <td>cant log vpn</td>\n",
       "    </tr>\n",
       "    <tr>\n",
       "      <th>3</th>\n",
       "      <td>unable to access hr_tool page</td>\n",
       "      <td>unable to access hr_tool page</td>\n",
       "      <td>xbkucsvz gcpydteq</td>\n",
       "      <td>GRP_0</td>\n",
       "      <td>unable access hr_tool page</td>\n",
       "    </tr>\n",
       "    <tr>\n",
       "      <th>4</th>\n",
       "      <td>skype error</td>\n",
       "      <td>skype error</td>\n",
       "      <td>owlgqjme qhcozdfx</td>\n",
       "      <td>GRP_0</td>\n",
       "      <td>skype error</td>\n",
       "    </tr>\n",
       "    <tr>\n",
       "      <th>...</th>\n",
       "      <td>...</td>\n",
       "      <td>...</td>\n",
       "      <td>...</td>\n",
       "      <td>...</td>\n",
       "      <td>...</td>\n",
       "    </tr>\n",
       "    <tr>\n",
       "      <th>8495</th>\n",
       "      <td>emails not coming in from zz mail</td>\n",
       "      <td>\\r\\n\\r\\nreceived from: avglmrts.vhqmtiua@gmail...</td>\n",
       "      <td>avglmrts vhqmtiua</td>\n",
       "      <td>GRP_29</td>\n",
       "      <td>emails coming zz mail</td>\n",
       "    </tr>\n",
       "    <tr>\n",
       "      <th>8496</th>\n",
       "      <td>telephony_software issue</td>\n",
       "      <td>telephony_software issue</td>\n",
       "      <td>rbozivdq gmlhrtvp</td>\n",
       "      <td>GRP_0</td>\n",
       "      <td>telephony_software issue</td>\n",
       "    </tr>\n",
       "    <tr>\n",
       "      <th>8497</th>\n",
       "      <td>vip2: windows password reset for tifpdchb pedx...</td>\n",
       "      <td>vip2: windows password reset for tifpdchb pedx...</td>\n",
       "      <td>oybwdsgx oxyhwrfz</td>\n",
       "      <td>GRP_0</td>\n",
       "      <td>vip2 windows password reset tifpdchb pedxruyf</td>\n",
       "    </tr>\n",
       "    <tr>\n",
       "      <th>8498</th>\n",
       "      <td>machine nÃ£o estÃ¡ funcionando</td>\n",
       "      <td>i am unable to access the machine utilities to...</td>\n",
       "      <td>ufawcgob aowhxjky</td>\n",
       "      <td>GRP_62</td>\n",
       "      <td>machine est funcionando</td>\n",
       "    </tr>\n",
       "    <tr>\n",
       "      <th>8499</th>\n",
       "      <td>an mehreren pc`s lassen sich verschiedene prgr...</td>\n",
       "      <td>an mehreren pc`s lassen sich verschiedene prgr...</td>\n",
       "      <td>kqvbrspl jyzoklfx</td>\n",
       "      <td>GRP_49</td>\n",
       "      <td>mehreren pc`s lassen sich verschiedene prgramd...</td>\n",
       "    </tr>\n",
       "  </tbody>\n",
       "</table>\n",
       "<p>8500 rows × 5 columns</p>\n",
       "</div>"
      ],
      "text/plain": [
       "                                      Short description  \\\n",
       "0                                           login issue   \n",
       "1                                               outlook   \n",
       "2                                    cant log in to vpn   \n",
       "3                         unable to access hr_tool page   \n",
       "4                                          skype error    \n",
       "...                                                 ...   \n",
       "8495                  emails not coming in from zz mail   \n",
       "8496                           telephony_software issue   \n",
       "8497  vip2: windows password reset for tifpdchb pedx...   \n",
       "8498                     machine nÃ£o estÃ¡ funcionando   \n",
       "8499  an mehreren pc`s lassen sich verschiedene prgr...   \n",
       "\n",
       "                                            Description             Caller  \\\n",
       "0     -verified user details.(employee# & manager na...  spxjnwir pjlcoqds   \n",
       "1     \\r\\n\\r\\nreceived from: hmjdrvpb.komuaywn@gmail...  hmjdrvpb komuaywn   \n",
       "2     \\r\\n\\r\\nreceived from: eylqgodm.ybqkwiam@gmail...  eylqgodm ybqkwiam   \n",
       "3                         unable to access hr_tool page  xbkucsvz gcpydteq   \n",
       "4                                          skype error   owlgqjme qhcozdfx   \n",
       "...                                                 ...                ...   \n",
       "8495  \\r\\n\\r\\nreceived from: avglmrts.vhqmtiua@gmail...  avglmrts vhqmtiua   \n",
       "8496                           telephony_software issue  rbozivdq gmlhrtvp   \n",
       "8497  vip2: windows password reset for tifpdchb pedx...  oybwdsgx oxyhwrfz   \n",
       "8498  i am unable to access the machine utilities to...  ufawcgob aowhxjky   \n",
       "8499  an mehreren pc`s lassen sich verschiedene prgr...  kqvbrspl jyzoklfx   \n",
       "\n",
       "     Assignment group                                         text_clean  \n",
       "0               GRP_0                                        login issue  \n",
       "1               GRP_0                                            outlook  \n",
       "2               GRP_0                                       cant log vpn  \n",
       "3               GRP_0                         unable access hr_tool page  \n",
       "4               GRP_0                                        skype error  \n",
       "...               ...                                                ...  \n",
       "8495           GRP_29                              emails coming zz mail  \n",
       "8496            GRP_0                           telephony_software issue  \n",
       "8497            GRP_0      vip2 windows password reset tifpdchb pedxruyf  \n",
       "8498           GRP_62                            machine est funcionando  \n",
       "8499           GRP_49  mehreren pc`s lassen sich verschiedene prgramd...  \n",
       "\n",
       "[8500 rows x 5 columns]"
      ]
     },
     "execution_count": 19,
     "metadata": {},
     "output_type": "execute_result"
    }
   ],
   "source": [
    "df"
   ]
  },
  {
   "cell_type": "code",
   "execution_count": 20,
   "metadata": {},
   "outputs": [],
   "source": [
    "df['Length']=df['text_clean'].apply(lambda x: len(x))"
   ]
  },
  {
   "cell_type": "code",
   "execution_count": 21,
   "metadata": {},
   "outputs": [
    {
     "data": {
      "text/html": [
       "<div>\n",
       "<style scoped>\n",
       "    .dataframe tbody tr th:only-of-type {\n",
       "        vertical-align: middle;\n",
       "    }\n",
       "\n",
       "    .dataframe tbody tr th {\n",
       "        vertical-align: top;\n",
       "    }\n",
       "\n",
       "    .dataframe thead th {\n",
       "        text-align: right;\n",
       "    }\n",
       "</style>\n",
       "<table border=\"1\" class=\"dataframe\">\n",
       "  <thead>\n",
       "    <tr style=\"text-align: right;\">\n",
       "      <th></th>\n",
       "      <th>Short description</th>\n",
       "      <th>Description</th>\n",
       "      <th>Caller</th>\n",
       "      <th>Assignment group</th>\n",
       "      <th>text_clean</th>\n",
       "      <th>Length</th>\n",
       "    </tr>\n",
       "  </thead>\n",
       "  <tbody>\n",
       "    <tr>\n",
       "      <th>7316</th>\n",
       "      <td>æ‹¼å†™å’Œè¯­æ³•é”™è¯¯</td>\n",
       "      <td>ç¼–è¾‘pptæ—¶ï¼Œæ€»æ˜¯å¼¹å‡º\"æ— æ³•æ£€æŸ¥æ‹¼å†™...</td>\n",
       "      <td>jtplaoui uvsihfpn</td>\n",
       "      <td>GRP_48</td>\n",
       "      <td></td>\n",
       "      <td>0</td>\n",
       "    </tr>\n",
       "    <tr>\n",
       "      <th>7126</th>\n",
       "      <td>ç”µè„‘å¡ä¸”è¿žä¸ä¸Šå†…ç½‘</td>\n",
       "      <td>\\n\\nreceived from: tuqrvowp.fxmzkvqo@gmail.com...</td>\n",
       "      <td>tuqrvowp fxmzkvqo</td>\n",
       "      <td>GRP_30</td>\n",
       "      <td></td>\n",
       "      <td>0</td>\n",
       "    </tr>\n",
       "    <tr>\n",
       "      <th>1954</th>\n",
       "      <td>ç¬”è®°æœ¬é‡æ–°è£…ä¸‹ç³»ç»Ÿ</td>\n",
       "      <td>æŠŠæˆ‘çš„ç¬”è®°æœ¬é‡æ–°è£…ä¸‹ç³»ç»Ÿ</td>\n",
       "      <td>xjvubmlq vyamhjip</td>\n",
       "      <td>GRP_30</td>\n",
       "      <td></td>\n",
       "      <td>0</td>\n",
       "    </tr>\n",
       "    <tr>\n",
       "      <th>3738</th>\n",
       "      <td>ç”µè¯æ•…éšœ</td>\n",
       "      <td>é“¸æ£’è½¦é—´ç”µè¯æ•…éšœï¼Œ39523850</td>\n",
       "      <td>sbkhjigv pbvlfcse</td>\n",
       "      <td>GRP_48</td>\n",
       "      <td></td>\n",
       "      <td>0</td>\n",
       "    </tr>\n",
       "    <tr>\n",
       "      <th>2975</th>\n",
       "      <td>???????????????????</td>\n",
       "      <td>\\r\\n\\r\\nreceived from: yzbjhmpw.vzrulkog@gmail...</td>\n",
       "      <td>yzbjhmpw vzrulkog</td>\n",
       "      <td>GRP_0</td>\n",
       "      <td></td>\n",
       "      <td>0</td>\n",
       "    </tr>\n",
       "    <tr>\n",
       "      <th>...</th>\n",
       "      <td>...</td>\n",
       "      <td>...</td>\n",
       "      <td>...</td>\n",
       "      <td>...</td>\n",
       "      <td>...</td>\n",
       "      <td>...</td>\n",
       "    </tr>\n",
       "    <tr>\n",
       "      <th>2288</th>\n",
       "      <td>russia: interface: vlan1 Â· russia engineering...</td>\n",
       "      <td>russia:  interface: vlan1 Â· russia engineerin...</td>\n",
       "      <td>rkupnshb gsmzfojw</td>\n",
       "      <td>GRP_8</td>\n",
       "      <td>russia interface vlan1 russia engineering_tool...</td>\n",
       "      <td>121</td>\n",
       "    </tr>\n",
       "    <tr>\n",
       "      <th>7019</th>\n",
       "      <td>need uasername and password of  .telephony_sof...</td>\n",
       "      <td>emails of australia team not polling into tele...</td>\n",
       "      <td>zupifghd vdqxepun</td>\n",
       "      <td>GRP_7</td>\n",
       "      <td>need uasername password telephony_softwareserv...</td>\n",
       "      <td>121</td>\n",
       "    </tr>\n",
       "    <tr>\n",
       "      <th>3201</th>\n",
       "      <td>erp printing issue : connection to system prod...</td>\n",
       "      <td>erp printing issue : connection to system prod...</td>\n",
       "      <td>acmglkti cwgxrabu</td>\n",
       "      <td>GRP_0</td>\n",
       "      <td>erp printing issue connection system productio...</td>\n",
       "      <td>123</td>\n",
       "    </tr>\n",
       "    <tr>\n",
       "      <th>8084</th>\n",
       "      <td>updated win10 uacyltoe hxgaycze machine eaglt0...</td>\n",
       "      <td>hello antivirus team,\\r\\n\\r\\nmy win10 uacyltoe...</td>\n",
       "      <td>nwfoucba dzbujamc</td>\n",
       "      <td>GRP_50</td>\n",
       "      <td>updated win10 uacyltoe hxgaycze machine eaglt0...</td>\n",
       "      <td>130</td>\n",
       "    </tr>\n",
       "    <tr>\n",
       "      <th>3202</th>\n",
       "      <td>erp production order printing issue : connecti...</td>\n",
       "      <td>erp printing issue : connection to system prod...</td>\n",
       "      <td>bdeplqyj fewovrcq</td>\n",
       "      <td>GRP_0</td>\n",
       "      <td>erp production order printing issue connection...</td>\n",
       "      <td>140</td>\n",
       "    </tr>\n",
       "  </tbody>\n",
       "</table>\n",
       "<p>8500 rows × 6 columns</p>\n",
       "</div>"
      ],
      "text/plain": [
       "                                      Short description  \\\n",
       "7316                              æ‹¼å†™å’Œè¯­æ³•é”™è¯¯   \n",
       "7126                        ç”µè„‘å¡ä¸”è¿žä¸ä¸Šå†…ç½‘   \n",
       "1954                        ç¬”è®°æœ¬é‡æ–°è£…ä¸‹ç³»ç»Ÿ   \n",
       "3738                                       ç”µè¯æ•…éšœ   \n",
       "2975                                ???????????????????   \n",
       "...                                                 ...   \n",
       "2288  russia: interface: vlan1 Â· russia engineering...   \n",
       "7019  need uasername and password of  .telephony_sof...   \n",
       "3201  erp printing issue : connection to system prod...   \n",
       "8084  updated win10 uacyltoe hxgaycze machine eaglt0...   \n",
       "3202  erp production order printing issue : connecti...   \n",
       "\n",
       "                                            Description             Caller  \\\n",
       "7316  ç¼–è¾‘pptæ—¶ï¼Œæ€»æ˜¯å¼¹å‡º\"æ— æ³•æ£€æŸ¥æ‹¼å†™...  jtplaoui uvsihfpn   \n",
       "7126  \\n\\nreceived from: tuqrvowp.fxmzkvqo@gmail.com...  tuqrvowp fxmzkvqo   \n",
       "1954               æŠŠæˆ‘çš„ç¬”è®°æœ¬é‡æ–°è£…ä¸‹ç³»ç»Ÿ  xjvubmlq vyamhjip   \n",
       "3738                é“¸æ£’è½¦é—´ç”µè¯æ•…éšœï¼Œ39523850  sbkhjigv pbvlfcse   \n",
       "2975  \\r\\n\\r\\nreceived from: yzbjhmpw.vzrulkog@gmail...  yzbjhmpw vzrulkog   \n",
       "...                                                 ...                ...   \n",
       "2288  russia:  interface: vlan1 Â· russia engineerin...  rkupnshb gsmzfojw   \n",
       "7019  emails of australia team not polling into tele...  zupifghd vdqxepun   \n",
       "3201  erp printing issue : connection to system prod...  acmglkti cwgxrabu   \n",
       "8084  hello antivirus team,\\r\\n\\r\\nmy win10 uacyltoe...  nwfoucba dzbujamc   \n",
       "3202  erp printing issue : connection to system prod...  bdeplqyj fewovrcq   \n",
       "\n",
       "     Assignment group                                         text_clean  \\\n",
       "7316           GRP_48                                                      \n",
       "7126           GRP_30                                                      \n",
       "1954           GRP_30                                                      \n",
       "3738           GRP_48                                                      \n",
       "2975            GRP_0                                                      \n",
       "...               ...                                                ...   \n",
       "2288            GRP_8  russia interface vlan1 russia engineering_tool...   \n",
       "7019            GRP_7  need uasername password telephony_softwareserv...   \n",
       "3201            GRP_0  erp printing issue connection system productio...   \n",
       "8084           GRP_50  updated win10 uacyltoe hxgaycze machine eaglt0...   \n",
       "3202            GRP_0  erp production order printing issue connection...   \n",
       "\n",
       "      Length  \n",
       "7316       0  \n",
       "7126       0  \n",
       "1954       0  \n",
       "3738       0  \n",
       "2975       0  \n",
       "...      ...  \n",
       "2288     121  \n",
       "7019     121  \n",
       "3201     123  \n",
       "8084     130  \n",
       "3202     140  \n",
       "\n",
       "[8500 rows x 6 columns]"
      ]
     },
     "execution_count": 21,
     "metadata": {},
     "output_type": "execute_result"
    }
   ],
   "source": [
    "df.sort_values(by='Length') #other languages are present in data"
   ]
  },
  {
   "cell_type": "code",
   "execution_count": 22,
   "metadata": {},
   "outputs": [
    {
     "data": {
      "text/plain": [
       "0    47\n",
       "Name: Length, dtype: int64"
      ]
     },
     "execution_count": 22,
     "metadata": {},
     "output_type": "execute_result"
    }
   ],
   "source": [
    "df[df[\"Length\"]==0][\"Length\"].value_counts()"
   ]
  },
  {
   "cell_type": "code",
   "execution_count": 23,
   "metadata": {},
   "outputs": [],
   "source": [
    "\n",
    "#Remove other languages alphabets\n",
    "df=df[df[\"Length\"]!=0]"
   ]
  },
  {
   "cell_type": "code",
   "execution_count": 24,
   "metadata": {},
   "outputs": [
    {
     "data": {
      "text/html": [
       "<div>\n",
       "<style scoped>\n",
       "    .dataframe tbody tr th:only-of-type {\n",
       "        vertical-align: middle;\n",
       "    }\n",
       "\n",
       "    .dataframe tbody tr th {\n",
       "        vertical-align: top;\n",
       "    }\n",
       "\n",
       "    .dataframe thead th {\n",
       "        text-align: right;\n",
       "    }\n",
       "</style>\n",
       "<table border=\"1\" class=\"dataframe\">\n",
       "  <thead>\n",
       "    <tr style=\"text-align: right;\">\n",
       "      <th></th>\n",
       "      <th>Short description</th>\n",
       "      <th>Description</th>\n",
       "      <th>Caller</th>\n",
       "      <th>Assignment group</th>\n",
       "      <th>text_clean</th>\n",
       "      <th>Length</th>\n",
       "    </tr>\n",
       "  </thead>\n",
       "  <tbody>\n",
       "    <tr>\n",
       "      <th>0</th>\n",
       "      <td>login issue</td>\n",
       "      <td>-verified user details.(employee# &amp; manager na...</td>\n",
       "      <td>spxjnwir pjlcoqds</td>\n",
       "      <td>GRP_0</td>\n",
       "      <td>login issue</td>\n",
       "      <td>11</td>\n",
       "    </tr>\n",
       "    <tr>\n",
       "      <th>1</th>\n",
       "      <td>outlook</td>\n",
       "      <td>\\r\\n\\r\\nreceived from: hmjdrvpb.komuaywn@gmail...</td>\n",
       "      <td>hmjdrvpb komuaywn</td>\n",
       "      <td>GRP_0</td>\n",
       "      <td>outlook</td>\n",
       "      <td>7</td>\n",
       "    </tr>\n",
       "    <tr>\n",
       "      <th>2</th>\n",
       "      <td>cant log in to vpn</td>\n",
       "      <td>\\r\\n\\r\\nreceived from: eylqgodm.ybqkwiam@gmail...</td>\n",
       "      <td>eylqgodm ybqkwiam</td>\n",
       "      <td>GRP_0</td>\n",
       "      <td>cant log vpn</td>\n",
       "      <td>12</td>\n",
       "    </tr>\n",
       "    <tr>\n",
       "      <th>3</th>\n",
       "      <td>unable to access hr_tool page</td>\n",
       "      <td>unable to access hr_tool page</td>\n",
       "      <td>xbkucsvz gcpydteq</td>\n",
       "      <td>GRP_0</td>\n",
       "      <td>unable access hr_tool page</td>\n",
       "      <td>26</td>\n",
       "    </tr>\n",
       "    <tr>\n",
       "      <th>4</th>\n",
       "      <td>skype error</td>\n",
       "      <td>skype error</td>\n",
       "      <td>owlgqjme qhcozdfx</td>\n",
       "      <td>GRP_0</td>\n",
       "      <td>skype error</td>\n",
       "      <td>11</td>\n",
       "    </tr>\n",
       "    <tr>\n",
       "      <th>...</th>\n",
       "      <td>...</td>\n",
       "      <td>...</td>\n",
       "      <td>...</td>\n",
       "      <td>...</td>\n",
       "      <td>...</td>\n",
       "      <td>...</td>\n",
       "    </tr>\n",
       "    <tr>\n",
       "      <th>8495</th>\n",
       "      <td>emails not coming in from zz mail</td>\n",
       "      <td>\\r\\n\\r\\nreceived from: avglmrts.vhqmtiua@gmail...</td>\n",
       "      <td>avglmrts vhqmtiua</td>\n",
       "      <td>GRP_29</td>\n",
       "      <td>emails coming zz mail</td>\n",
       "      <td>21</td>\n",
       "    </tr>\n",
       "    <tr>\n",
       "      <th>8496</th>\n",
       "      <td>telephony_software issue</td>\n",
       "      <td>telephony_software issue</td>\n",
       "      <td>rbozivdq gmlhrtvp</td>\n",
       "      <td>GRP_0</td>\n",
       "      <td>telephony_software issue</td>\n",
       "      <td>24</td>\n",
       "    </tr>\n",
       "    <tr>\n",
       "      <th>8497</th>\n",
       "      <td>vip2: windows password reset for tifpdchb pedx...</td>\n",
       "      <td>vip2: windows password reset for tifpdchb pedx...</td>\n",
       "      <td>oybwdsgx oxyhwrfz</td>\n",
       "      <td>GRP_0</td>\n",
       "      <td>vip2 windows password reset tifpdchb pedxruyf</td>\n",
       "      <td>45</td>\n",
       "    </tr>\n",
       "    <tr>\n",
       "      <th>8498</th>\n",
       "      <td>machine nÃ£o estÃ¡ funcionando</td>\n",
       "      <td>i am unable to access the machine utilities to...</td>\n",
       "      <td>ufawcgob aowhxjky</td>\n",
       "      <td>GRP_62</td>\n",
       "      <td>machine est funcionando</td>\n",
       "      <td>23</td>\n",
       "    </tr>\n",
       "    <tr>\n",
       "      <th>8499</th>\n",
       "      <td>an mehreren pc`s lassen sich verschiedene prgr...</td>\n",
       "      <td>an mehreren pc`s lassen sich verschiedene prgr...</td>\n",
       "      <td>kqvbrspl jyzoklfx</td>\n",
       "      <td>GRP_49</td>\n",
       "      <td>mehreren pc`s lassen sich verschiedene prgramd...</td>\n",
       "      <td>63</td>\n",
       "    </tr>\n",
       "  </tbody>\n",
       "</table>\n",
       "<p>8453 rows × 6 columns</p>\n",
       "</div>"
      ],
      "text/plain": [
       "                                      Short description  \\\n",
       "0                                           login issue   \n",
       "1                                               outlook   \n",
       "2                                    cant log in to vpn   \n",
       "3                         unable to access hr_tool page   \n",
       "4                                          skype error    \n",
       "...                                                 ...   \n",
       "8495                  emails not coming in from zz mail   \n",
       "8496                           telephony_software issue   \n",
       "8497  vip2: windows password reset for tifpdchb pedx...   \n",
       "8498                     machine nÃ£o estÃ¡ funcionando   \n",
       "8499  an mehreren pc`s lassen sich verschiedene prgr...   \n",
       "\n",
       "                                            Description             Caller  \\\n",
       "0     -verified user details.(employee# & manager na...  spxjnwir pjlcoqds   \n",
       "1     \\r\\n\\r\\nreceived from: hmjdrvpb.komuaywn@gmail...  hmjdrvpb komuaywn   \n",
       "2     \\r\\n\\r\\nreceived from: eylqgodm.ybqkwiam@gmail...  eylqgodm ybqkwiam   \n",
       "3                         unable to access hr_tool page  xbkucsvz gcpydteq   \n",
       "4                                          skype error   owlgqjme qhcozdfx   \n",
       "...                                                 ...                ...   \n",
       "8495  \\r\\n\\r\\nreceived from: avglmrts.vhqmtiua@gmail...  avglmrts vhqmtiua   \n",
       "8496                           telephony_software issue  rbozivdq gmlhrtvp   \n",
       "8497  vip2: windows password reset for tifpdchb pedx...  oybwdsgx oxyhwrfz   \n",
       "8498  i am unable to access the machine utilities to...  ufawcgob aowhxjky   \n",
       "8499  an mehreren pc`s lassen sich verschiedene prgr...  kqvbrspl jyzoklfx   \n",
       "\n",
       "     Assignment group                                         text_clean  \\\n",
       "0               GRP_0                                        login issue   \n",
       "1               GRP_0                                            outlook   \n",
       "2               GRP_0                                       cant log vpn   \n",
       "3               GRP_0                         unable access hr_tool page   \n",
       "4               GRP_0                                        skype error   \n",
       "...               ...                                                ...   \n",
       "8495           GRP_29                              emails coming zz mail   \n",
       "8496            GRP_0                           telephony_software issue   \n",
       "8497            GRP_0      vip2 windows password reset tifpdchb pedxruyf   \n",
       "8498           GRP_62                            machine est funcionando   \n",
       "8499           GRP_49  mehreren pc`s lassen sich verschiedene prgramd...   \n",
       "\n",
       "      Length  \n",
       "0         11  \n",
       "1          7  \n",
       "2         12  \n",
       "3         26  \n",
       "4         11  \n",
       "...      ...  \n",
       "8495      21  \n",
       "8496      24  \n",
       "8497      45  \n",
       "8498      23  \n",
       "8499      63  \n",
       "\n",
       "[8453 rows x 6 columns]"
      ]
     },
     "execution_count": 24,
     "metadata": {},
     "output_type": "execute_result"
    }
   ],
   "source": [
    "df"
   ]
  },
  {
   "cell_type": "code",
   "execution_count": 26,
   "metadata": {
    "scrolled": true
   },
   "outputs": [
    {
     "data": {
      "text/plain": [
       "GRP_0     3974\n",
       "GRP_8      661\n",
       "GRP_24     289\n",
       "GRP_12     257\n",
       "GRP_9      252\n",
       "          ... \n",
       "GRP_70       1\n",
       "GRP_73       1\n",
       "GRP_35       1\n",
       "GRP_64       1\n",
       "GRP_67       1\n",
       "Name: Assignment group, Length: 74, dtype: int64"
      ]
     },
     "execution_count": 26,
     "metadata": {},
     "output_type": "execute_result"
    }
   ],
   "source": [
    "df['Assignment group'].value_counts()"
   ]
  },
  {
   "cell_type": "code",
   "execution_count": 34,
   "metadata": {},
   "outputs": [],
   "source": [
    "Assignment_group=pd.DataFrame(df[\"Assignment group\"].value_counts()).reset_index().sort_values(by='Assignment group',ascending=False)\n",
    "Assignment_group.to_csv('file.csv')"
   ]
  },
  {
   "cell_type": "code",
   "execution_count": 37,
   "metadata": {},
   "outputs": [],
   "source": [
    "pd.set_option('display.float_format', lambda x: '%.3f' % x)"
   ]
  },
  {
   "cell_type": "code",
   "execution_count": 39,
   "metadata": {
    "scrolled": true
   },
   "outputs": [
    {
     "name": "stdout",
     "output_type": "stream",
     "text": [
      "   Assignment group  Count  Percent\n",
      "0             GRP_0   3974   47.013\n",
      "1             GRP_8    661    7.820\n",
      "2            GRP_24    289    3.419\n",
      "3            GRP_12    257    3.040\n",
      "4             GRP_9    252    2.981\n",
      "5             GRP_2    241    2.851\n",
      "6            GRP_19    215    2.543\n",
      "7             GRP_3    200    2.366\n",
      "8             GRP_6    184    2.177\n",
      "9            GRP_13    145    1.715\n",
      "10           GRP_10    140    1.656\n",
      "11            GRP_5    129    1.526\n",
      "12           GRP_14    118    1.396\n",
      "13           GRP_25    116    1.372\n",
      "14           GRP_33    107    1.266\n",
      "15            GRP_4    100    1.183\n",
      "16           GRP_29     97    1.148\n",
      "17           GRP_18     88    1.041\n",
      "18           GRP_16     85    1.006\n",
      "19           GRP_17     81    0.958\n",
      "20            GRP_7     68    0.804\n",
      "21           GRP_34     62    0.733\n",
      "22           GRP_31     60    0.710\n",
      "23           GRP_26     56    0.662\n",
      "24           GRP_40     45    0.532\n",
      "25           GRP_28     44    0.521\n",
      "26           GRP_41     40    0.473\n",
      "27           GRP_15     39    0.461\n",
      "28           GRP_42     37    0.438\n",
      "29           GRP_20     36    0.426\n",
      "30           GRP_45     35    0.414\n",
      "31            GRP_1     31    0.367\n",
      "32           GRP_22     31    0.367\n",
      "33           GRP_11     30    0.355\n",
      "34           GRP_21     29    0.343\n",
      "35           GRP_47     27    0.319\n",
      "37           GRP_62     25    0.296\n",
      "36           GRP_23     25    0.296\n",
      "38           GRP_30     22    0.260\n",
      "39           GRP_60     20    0.237\n",
      "40           GRP_39     19    0.225\n",
      "41           GRP_27     18    0.213\n",
      "42           GRP_37     16    0.189\n",
      "43           GRP_36     15    0.177\n",
      "44           GRP_44     15    0.177\n",
      "45           GRP_50     14    0.166\n",
      "47           GRP_65     11    0.130\n",
      "46           GRP_53     11    0.130\n",
      "48           GRP_52      9    0.106\n",
      "49           GRP_55      8    0.095\n",
      "50           GRP_51      8    0.095\n",
      "51           GRP_48      6    0.071\n",
      "52           GRP_59      6    0.071\n",
      "53           GRP_46      6    0.071\n",
      "54           GRP_49      6    0.071\n",
      "55           GRP_43      5    0.059\n",
      "56           GRP_32      4    0.047\n",
      "57           GRP_66      4    0.047\n",
      "58           GRP_63      3    0.035\n",
      "59           GRP_56      3    0.035\n",
      "60           GRP_68      3    0.035\n",
      "61           GRP_38      3    0.035\n",
      "62           GRP_58      3    0.035\n",
      "67           GRP_57      2    0.024\n",
      "66           GRP_54      2    0.024\n",
      "65           GRP_72      2    0.024\n",
      "64           GRP_71      2    0.024\n",
      "63           GRP_69      2    0.024\n",
      "68           GRP_61      1    0.012\n",
      "69           GRP_70      1    0.012\n",
      "70           GRP_73      1    0.012\n",
      "71           GRP_35      1    0.012\n",
      "72           GRP_64      1    0.012\n",
      "73           GRP_67      1    0.012\n"
     ]
    }
   ],
   "source": [
    "Assignment_group=pd.DataFrame(df[\"Assignment group\"].value_counts()).reset_index().sort_values(by='Assignment group',ascending=False)\n",
    "Assignment_group.columns=['Assignment group','Count']\n",
    "\n",
    "Assignment_group['Percent']=Assignment_group.Count/Assignment_group.Count.sum()*100\n",
    "with pd.option_context('display.max_rows', None,\n",
    "                       'display.max_columns', None,\n",
    "                       'display.precision', 3,\n",
    "                       ):\n",
    "    print(Assignment_group)\n"
   ]
  },
  {
   "cell_type": "code",
   "execution_count": 40,
   "metadata": {},
   "outputs": [],
   "source": [
    "# 19 groups are taking 88% of tickets SO clubbing the other into a single  "
   ]
  },
  {
   "cell_type": "code",
   "execution_count": 41,
   "metadata": {},
   "outputs": [],
   "source": [
    "shorted_group = Assignment_group[Assignment_group['Percent']>1]"
   ]
  },
  {
   "cell_type": "code",
   "execution_count": 45,
   "metadata": {},
   "outputs": [],
   "source": [
    "groups = np.array(shorted_group['Assignment group'])"
   ]
  },
  {
   "cell_type": "code",
   "execution_count": 46,
   "metadata": {},
   "outputs": [
    {
     "data": {
      "text/plain": [
       "array(['GRP_0', 'GRP_8', 'GRP_24', 'GRP_12', 'GRP_9', 'GRP_2', 'GRP_19',\n",
       "       'GRP_3', 'GRP_6', 'GRP_13', 'GRP_10', 'GRP_5', 'GRP_14', 'GRP_25',\n",
       "       'GRP_33', 'GRP_4', 'GRP_29', 'GRP_18', 'GRP_16'], dtype=object)"
      ]
     },
     "execution_count": 46,
     "metadata": {},
     "output_type": "execute_result"
    }
   ],
   "source": [
    "groups"
   ]
  },
  {
   "cell_type": "code",
   "execution_count": 56,
   "metadata": {},
   "outputs": [],
   "source": [
    "df['updated_group'] = np.where(df['Assignment group'].isin(['GRP_0', 'GRP_8', 'GRP_24', 'GRP_12', 'GRP_9', 'GRP_2', 'GRP_19',\n",
    "       'GRP_3', 'GRP_6', 'GRP_13', 'GRP_10', 'GRP_5', 'GRP_14', 'GRP_25',\n",
    "       'GRP_33', 'GRP_4', 'GRP_29', 'GRP_18', 'GRP_16']),df['Assignment group'], 'GRP_X')"
   ]
  },
  {
   "cell_type": "code",
   "execution_count": 57,
   "metadata": {},
   "outputs": [
    {
     "data": {
      "text/html": [
       "<div>\n",
       "<style scoped>\n",
       "    .dataframe tbody tr th:only-of-type {\n",
       "        vertical-align: middle;\n",
       "    }\n",
       "\n",
       "    .dataframe tbody tr th {\n",
       "        vertical-align: top;\n",
       "    }\n",
       "\n",
       "    .dataframe thead th {\n",
       "        text-align: right;\n",
       "    }\n",
       "</style>\n",
       "<table border=\"1\" class=\"dataframe\">\n",
       "  <thead>\n",
       "    <tr style=\"text-align: right;\">\n",
       "      <th></th>\n",
       "      <th>Short description</th>\n",
       "      <th>Description</th>\n",
       "      <th>Caller</th>\n",
       "      <th>Assignment group</th>\n",
       "      <th>text_clean</th>\n",
       "      <th>Length</th>\n",
       "      <th>updated_group</th>\n",
       "    </tr>\n",
       "  </thead>\n",
       "  <tbody>\n",
       "    <tr>\n",
       "      <th>0</th>\n",
       "      <td>login issue</td>\n",
       "      <td>-verified user details.(employee# &amp; manager na...</td>\n",
       "      <td>spxjnwir pjlcoqds</td>\n",
       "      <td>GRP_0</td>\n",
       "      <td>login issue</td>\n",
       "      <td>11</td>\n",
       "      <td>GRP_0</td>\n",
       "    </tr>\n",
       "    <tr>\n",
       "      <th>1</th>\n",
       "      <td>outlook</td>\n",
       "      <td>\\r\\n\\r\\nreceived from: hmjdrvpb.komuaywn@gmail...</td>\n",
       "      <td>hmjdrvpb komuaywn</td>\n",
       "      <td>GRP_0</td>\n",
       "      <td>outlook</td>\n",
       "      <td>7</td>\n",
       "      <td>GRP_0</td>\n",
       "    </tr>\n",
       "    <tr>\n",
       "      <th>2</th>\n",
       "      <td>cant log in to vpn</td>\n",
       "      <td>\\r\\n\\r\\nreceived from: eylqgodm.ybqkwiam@gmail...</td>\n",
       "      <td>eylqgodm ybqkwiam</td>\n",
       "      <td>GRP_0</td>\n",
       "      <td>cant log vpn</td>\n",
       "      <td>12</td>\n",
       "      <td>GRP_0</td>\n",
       "    </tr>\n",
       "    <tr>\n",
       "      <th>3</th>\n",
       "      <td>unable to access hr_tool page</td>\n",
       "      <td>unable to access hr_tool page</td>\n",
       "      <td>xbkucsvz gcpydteq</td>\n",
       "      <td>GRP_0</td>\n",
       "      <td>unable access hr_tool page</td>\n",
       "      <td>26</td>\n",
       "      <td>GRP_0</td>\n",
       "    </tr>\n",
       "    <tr>\n",
       "      <th>4</th>\n",
       "      <td>skype error</td>\n",
       "      <td>skype error</td>\n",
       "      <td>owlgqjme qhcozdfx</td>\n",
       "      <td>GRP_0</td>\n",
       "      <td>skype error</td>\n",
       "      <td>11</td>\n",
       "      <td>GRP_0</td>\n",
       "    </tr>\n",
       "    <tr>\n",
       "      <th>...</th>\n",
       "      <td>...</td>\n",
       "      <td>...</td>\n",
       "      <td>...</td>\n",
       "      <td>...</td>\n",
       "      <td>...</td>\n",
       "      <td>...</td>\n",
       "      <td>...</td>\n",
       "    </tr>\n",
       "    <tr>\n",
       "      <th>8495</th>\n",
       "      <td>emails not coming in from zz mail</td>\n",
       "      <td>\\r\\n\\r\\nreceived from: avglmrts.vhqmtiua@gmail...</td>\n",
       "      <td>avglmrts vhqmtiua</td>\n",
       "      <td>GRP_29</td>\n",
       "      <td>emails coming zz mail</td>\n",
       "      <td>21</td>\n",
       "      <td>GRP_29</td>\n",
       "    </tr>\n",
       "    <tr>\n",
       "      <th>8496</th>\n",
       "      <td>telephony_software issue</td>\n",
       "      <td>telephony_software issue</td>\n",
       "      <td>rbozivdq gmlhrtvp</td>\n",
       "      <td>GRP_0</td>\n",
       "      <td>telephony_software issue</td>\n",
       "      <td>24</td>\n",
       "      <td>GRP_0</td>\n",
       "    </tr>\n",
       "    <tr>\n",
       "      <th>8497</th>\n",
       "      <td>vip2: windows password reset for tifpdchb pedx...</td>\n",
       "      <td>vip2: windows password reset for tifpdchb pedx...</td>\n",
       "      <td>oybwdsgx oxyhwrfz</td>\n",
       "      <td>GRP_0</td>\n",
       "      <td>vip2 windows password reset tifpdchb pedxruyf</td>\n",
       "      <td>45</td>\n",
       "      <td>GRP_0</td>\n",
       "    </tr>\n",
       "    <tr>\n",
       "      <th>8498</th>\n",
       "      <td>machine nÃ£o estÃ¡ funcionando</td>\n",
       "      <td>i am unable to access the machine utilities to...</td>\n",
       "      <td>ufawcgob aowhxjky</td>\n",
       "      <td>GRP_62</td>\n",
       "      <td>machine est funcionando</td>\n",
       "      <td>23</td>\n",
       "      <td>GRP_X</td>\n",
       "    </tr>\n",
       "    <tr>\n",
       "      <th>8499</th>\n",
       "      <td>an mehreren pc`s lassen sich verschiedene prgr...</td>\n",
       "      <td>an mehreren pc`s lassen sich verschiedene prgr...</td>\n",
       "      <td>kqvbrspl jyzoklfx</td>\n",
       "      <td>GRP_49</td>\n",
       "      <td>mehreren pc`s lassen sich verschiedene prgramd...</td>\n",
       "      <td>63</td>\n",
       "      <td>GRP_X</td>\n",
       "    </tr>\n",
       "  </tbody>\n",
       "</table>\n",
       "<p>8453 rows × 7 columns</p>\n",
       "</div>"
      ],
      "text/plain": [
       "                                      Short description  \\\n",
       "0                                           login issue   \n",
       "1                                               outlook   \n",
       "2                                    cant log in to vpn   \n",
       "3                         unable to access hr_tool page   \n",
       "4                                          skype error    \n",
       "...                                                 ...   \n",
       "8495                  emails not coming in from zz mail   \n",
       "8496                           telephony_software issue   \n",
       "8497  vip2: windows password reset for tifpdchb pedx...   \n",
       "8498                     machine nÃ£o estÃ¡ funcionando   \n",
       "8499  an mehreren pc`s lassen sich verschiedene prgr...   \n",
       "\n",
       "                                            Description             Caller  \\\n",
       "0     -verified user details.(employee# & manager na...  spxjnwir pjlcoqds   \n",
       "1     \\r\\n\\r\\nreceived from: hmjdrvpb.komuaywn@gmail...  hmjdrvpb komuaywn   \n",
       "2     \\r\\n\\r\\nreceived from: eylqgodm.ybqkwiam@gmail...  eylqgodm ybqkwiam   \n",
       "3                         unable to access hr_tool page  xbkucsvz gcpydteq   \n",
       "4                                          skype error   owlgqjme qhcozdfx   \n",
       "...                                                 ...                ...   \n",
       "8495  \\r\\n\\r\\nreceived from: avglmrts.vhqmtiua@gmail...  avglmrts vhqmtiua   \n",
       "8496                           telephony_software issue  rbozivdq gmlhrtvp   \n",
       "8497  vip2: windows password reset for tifpdchb pedx...  oybwdsgx oxyhwrfz   \n",
       "8498  i am unable to access the machine utilities to...  ufawcgob aowhxjky   \n",
       "8499  an mehreren pc`s lassen sich verschiedene prgr...  kqvbrspl jyzoklfx   \n",
       "\n",
       "     Assignment group                                         text_clean  \\\n",
       "0               GRP_0                                        login issue   \n",
       "1               GRP_0                                            outlook   \n",
       "2               GRP_0                                       cant log vpn   \n",
       "3               GRP_0                         unable access hr_tool page   \n",
       "4               GRP_0                                        skype error   \n",
       "...               ...                                                ...   \n",
       "8495           GRP_29                              emails coming zz mail   \n",
       "8496            GRP_0                           telephony_software issue   \n",
       "8497            GRP_0      vip2 windows password reset tifpdchb pedxruyf   \n",
       "8498           GRP_62                            machine est funcionando   \n",
       "8499           GRP_49  mehreren pc`s lassen sich verschiedene prgramd...   \n",
       "\n",
       "      Length updated_group  \n",
       "0         11         GRP_0  \n",
       "1          7         GRP_0  \n",
       "2         12         GRP_0  \n",
       "3         26         GRP_0  \n",
       "4         11         GRP_0  \n",
       "...      ...           ...  \n",
       "8495      21        GRP_29  \n",
       "8496      24         GRP_0  \n",
       "8497      45         GRP_0  \n",
       "8498      23         GRP_X  \n",
       "8499      63         GRP_X  \n",
       "\n",
       "[8453 rows x 7 columns]"
      ]
     },
     "execution_count": 57,
     "metadata": {},
     "output_type": "execute_result"
    }
   ],
   "source": [
    "df"
   ]
  },
  {
   "cell_type": "code",
   "execution_count": 58,
   "metadata": {},
   "outputs": [
    {
     "data": {
      "text/plain": [
       "GRP_0     3974\n",
       "GRP_X     1055\n",
       "GRP_8      661\n",
       "GRP_24     289\n",
       "GRP_12     257\n",
       "GRP_9      252\n",
       "GRP_2      241\n",
       "GRP_19     215\n",
       "GRP_3      200\n",
       "GRP_6      184\n",
       "GRP_13     145\n",
       "GRP_10     140\n",
       "GRP_5      129\n",
       "GRP_14     118\n",
       "GRP_25     116\n",
       "GRP_33     107\n",
       "GRP_4      100\n",
       "GRP_29      97\n",
       "GRP_18      88\n",
       "GRP_16      85\n",
       "Name: updated_group, dtype: int64"
      ]
     },
     "execution_count": 58,
     "metadata": {},
     "output_type": "execute_result"
    }
   ],
   "source": [
    "df['updated_group'].value_counts()"
   ]
  },
  {
   "cell_type": "code",
   "execution_count": 61,
   "metadata": {},
   "outputs": [
    {
     "data": {
      "text/plain": [
       "<matplotlib.axes._subplots.AxesSubplot at 0x1e5033cbc70>"
      ]
     },
     "execution_count": 61,
     "metadata": {},
     "output_type": "execute_result"
    },
    {
     "data": {
      "image/png": "[encoded data removed]",
      "text/plain": [
       "<Figure size 1080x595.44 with 1 Axes>"
      ]
     },
     "metadata": {},
     "output_type": "display_data"
    }
   ],
   "source": [
    "# Plot\n",
    "sns.set(rc={'figure.figsize':(15,8.27)})\n",
    "sns.countplot(x='updated_group',data=df)"
   ]
  },
  {
   "cell_type": "code",
   "execution_count": 62,
   "metadata": {},
   "outputs": [
    {
     "data": {
      "text/html": [
       "<div>\n",
       "<style scoped>\n",
       "    .dataframe tbody tr th:only-of-type {\n",
       "        vertical-align: middle;\n",
       "    }\n",
       "\n",
       "    .dataframe tbody tr th {\n",
       "        vertical-align: top;\n",
       "    }\n",
       "\n",
       "    .dataframe thead th {\n",
       "        text-align: right;\n",
       "    }\n",
       "</style>\n",
       "<table border=\"1\" class=\"dataframe\">\n",
       "  <thead>\n",
       "    <tr style=\"text-align: right;\">\n",
       "      <th></th>\n",
       "      <th>Short description</th>\n",
       "      <th>Description</th>\n",
       "      <th>Caller</th>\n",
       "      <th>Assignment group</th>\n",
       "      <th>text_clean</th>\n",
       "      <th>Length</th>\n",
       "      <th>updated_group</th>\n",
       "    </tr>\n",
       "  </thead>\n",
       "  <tbody>\n",
       "    <tr>\n",
       "      <th>0</th>\n",
       "      <td>login issue</td>\n",
       "      <td>-verified user details.(employee# &amp; manager na...</td>\n",
       "      <td>spxjnwir pjlcoqds</td>\n",
       "      <td>GRP_0</td>\n",
       "      <td>login issue</td>\n",
       "      <td>11</td>\n",
       "      <td>GRP_0</td>\n",
       "    </tr>\n",
       "    <tr>\n",
       "      <th>1</th>\n",
       "      <td>outlook</td>\n",
       "      <td>\\r\\n\\r\\nreceived from: hmjdrvpb.komuaywn@gmail...</td>\n",
       "      <td>hmjdrvpb komuaywn</td>\n",
       "      <td>GRP_0</td>\n",
       "      <td>outlook</td>\n",
       "      <td>7</td>\n",
       "      <td>GRP_0</td>\n",
       "    </tr>\n",
       "    <tr>\n",
       "      <th>2</th>\n",
       "      <td>cant log in to vpn</td>\n",
       "      <td>\\r\\n\\r\\nreceived from: eylqgodm.ybqkwiam@gmail...</td>\n",
       "      <td>eylqgodm ybqkwiam</td>\n",
       "      <td>GRP_0</td>\n",
       "      <td>cant log vpn</td>\n",
       "      <td>12</td>\n",
       "      <td>GRP_0</td>\n",
       "    </tr>\n",
       "    <tr>\n",
       "      <th>3</th>\n",
       "      <td>unable to access hr_tool page</td>\n",
       "      <td>unable to access hr_tool page</td>\n",
       "      <td>xbkucsvz gcpydteq</td>\n",
       "      <td>GRP_0</td>\n",
       "      <td>unable access hr_tool page</td>\n",
       "      <td>26</td>\n",
       "      <td>GRP_0</td>\n",
       "    </tr>\n",
       "    <tr>\n",
       "      <th>4</th>\n",
       "      <td>skype error</td>\n",
       "      <td>skype error</td>\n",
       "      <td>owlgqjme qhcozdfx</td>\n",
       "      <td>GRP_0</td>\n",
       "      <td>skype error</td>\n",
       "      <td>11</td>\n",
       "      <td>GRP_0</td>\n",
       "    </tr>\n",
       "    <tr>\n",
       "      <th>...</th>\n",
       "      <td>...</td>\n",
       "      <td>...</td>\n",
       "      <td>...</td>\n",
       "      <td>...</td>\n",
       "      <td>...</td>\n",
       "      <td>...</td>\n",
       "      <td>...</td>\n",
       "    </tr>\n",
       "    <tr>\n",
       "      <th>8495</th>\n",
       "      <td>emails not coming in from zz mail</td>\n",
       "      <td>\\r\\n\\r\\nreceived from: avglmrts.vhqmtiua@gmail...</td>\n",
       "      <td>avglmrts vhqmtiua</td>\n",
       "      <td>GRP_29</td>\n",
       "      <td>emails coming zz mail</td>\n",
       "      <td>21</td>\n",
       "      <td>GRP_29</td>\n",
       "    </tr>\n",
       "    <tr>\n",
       "      <th>8496</th>\n",
       "      <td>telephony_software issue</td>\n",
       "      <td>telephony_software issue</td>\n",
       "      <td>rbozivdq gmlhrtvp</td>\n",
       "      <td>GRP_0</td>\n",
       "      <td>telephony_software issue</td>\n",
       "      <td>24</td>\n",
       "      <td>GRP_0</td>\n",
       "    </tr>\n",
       "    <tr>\n",
       "      <th>8497</th>\n",
       "      <td>vip2: windows password reset for tifpdchb pedx...</td>\n",
       "      <td>vip2: windows password reset for tifpdchb pedx...</td>\n",
       "      <td>oybwdsgx oxyhwrfz</td>\n",
       "      <td>GRP_0</td>\n",
       "      <td>vip2 windows password reset tifpdchb pedxruyf</td>\n",
       "      <td>45</td>\n",
       "      <td>GRP_0</td>\n",
       "    </tr>\n",
       "    <tr>\n",
       "      <th>8498</th>\n",
       "      <td>machine nÃ£o estÃ¡ funcionando</td>\n",
       "      <td>i am unable to access the machine utilities to...</td>\n",
       "      <td>ufawcgob aowhxjky</td>\n",
       "      <td>GRP_62</td>\n",
       "      <td>machine est funcionando</td>\n",
       "      <td>23</td>\n",
       "      <td>GRP_X</td>\n",
       "    </tr>\n",
       "    <tr>\n",
       "      <th>8499</th>\n",
       "      <td>an mehreren pc`s lassen sich verschiedene prgr...</td>\n",
       "      <td>an mehreren pc`s lassen sich verschiedene prgr...</td>\n",
       "      <td>kqvbrspl jyzoklfx</td>\n",
       "      <td>GRP_49</td>\n",
       "      <td>mehreren pc`s lassen sich verschiedene prgramd...</td>\n",
       "      <td>63</td>\n",
       "      <td>GRP_X</td>\n",
       "    </tr>\n",
       "  </tbody>\n",
       "</table>\n",
       "<p>8453 rows × 7 columns</p>\n",
       "</div>"
      ],
      "text/plain": [
       "                                      Short description  \\\n",
       "0                                           login issue   \n",
       "1                                               outlook   \n",
       "2                                    cant log in to vpn   \n",
       "3                         unable to access hr_tool page   \n",
       "4                                          skype error    \n",
       "...                                                 ...   \n",
       "8495                  emails not coming in from zz mail   \n",
       "8496                           telephony_software issue   \n",
       "8497  vip2: windows password reset for tifpdchb pedx...   \n",
       "8498                     machine nÃ£o estÃ¡ funcionando   \n",
       "8499  an mehreren pc`s lassen sich verschiedene prgr...   \n",
       "\n",
       "                                            Description             Caller  \\\n",
       "0     -verified user details.(employee# & manager na...  spxjnwir pjlcoqds   \n",
       "1     \\r\\n\\r\\nreceived from: hmjdrvpb.komuaywn@gmail...  hmjdrvpb komuaywn   \n",
       "2     \\r\\n\\r\\nreceived from: eylqgodm.ybqkwiam@gmail...  eylqgodm ybqkwiam   \n",
       "3                         unable to access hr_tool page  xbkucsvz gcpydteq   \n",
       "4                                          skype error   owlgqjme qhcozdfx   \n",
       "...                                                 ...                ...   \n",
       "8495  \\r\\n\\r\\nreceived from: avglmrts.vhqmtiua@gmail...  avglmrts vhqmtiua   \n",
       "8496                           telephony_software issue  rbozivdq gmlhrtvp   \n",
       "8497  vip2: windows password reset for tifpdchb pedx...  oybwdsgx oxyhwrfz   \n",
       "8498  i am unable to access the machine utilities to...  ufawcgob aowhxjky   \n",
       "8499  an mehreren pc`s lassen sich verschiedene prgr...  kqvbrspl jyzoklfx   \n",
       "\n",
       "     Assignment group                                         text_clean  \\\n",
       "0               GRP_0                                        login issue   \n",
       "1               GRP_0                                            outlook   \n",
       "2               GRP_0                                       cant log vpn   \n",
       "3               GRP_0                         unable access hr_tool page   \n",
       "4               GRP_0                                        skype error   \n",
       "...               ...                                                ...   \n",
       "8495           GRP_29                              emails coming zz mail   \n",
       "8496            GRP_0                           telephony_software issue   \n",
       "8497            GRP_0      vip2 windows password reset tifpdchb pedxruyf   \n",
       "8498           GRP_62                            machine est funcionando   \n",
       "8499           GRP_49  mehreren pc`s lassen sich verschiedene prgramd...   \n",
       "\n",
       "      Length updated_group  \n",
       "0         11         GRP_0  \n",
       "1          7         GRP_0  \n",
       "2         12         GRP_0  \n",
       "3         26         GRP_0  \n",
       "4         11         GRP_0  \n",
       "...      ...           ...  \n",
       "8495      21        GRP_29  \n",
       "8496      24         GRP_0  \n",
       "8497      45         GRP_0  \n",
       "8498      23         GRP_X  \n",
       "8499      63         GRP_X  \n",
       "\n",
       "[8453 rows x 7 columns]"
      ]
     },
     "execution_count": 62,
     "metadata": {},
     "output_type": "execute_result"
    }
   ],
   "source": [
    "df"
   ]
  },
  {
   "cell_type": "code",
   "execution_count": 63,
   "metadata": {},
   "outputs": [],
   "source": [
    "Xfeatures = df['text_clean']\n",
    "ylabels = df['updated_group']"
   ]
  },
  {
   "cell_type": "code",
   "execution_count": 64,
   "metadata": {},
   "outputs": [],
   "source": [
    "#  Split Data\n",
    "x_train,x_test,y_train,y_test = train_test_split(Xfeatures,ylabels,test_size=0.3,random_state=42)"
   ]
  },
  {
   "cell_type": "code",
   "execution_count": 65,
   "metadata": {},
   "outputs": [],
   "source": [
    "# Build Pipeline\n",
    "from sklearn.pipeline import Pipeline"
   ]
  },
  {
   "cell_type": "code",
   "execution_count": 89,
   "metadata": {},
   "outputs": [],
   "source": [
    "# LogisticRegression Pipeline\n",
    "pipe_lr = Pipeline(steps=[('cv',CountVectorizer()),('lr',LogisticRegression())])"
   ]
  },
  {
   "cell_type": "code",
   "execution_count": 90,
   "metadata": {},
   "outputs": [
    {
     "name": "stderr",
     "output_type": "stream",
     "text": [
      "C:\\Users\\JAtin bhatia\\AppData\\Roaming\\Python\\Python38\\site-packages\\sklearn\\linear_model\\_logistic.py:814: ConvergenceWarning: lbfgs failed to converge (status=1):\n",
      "STOP: TOTAL NO. of ITERATIONS REACHED LIMIT.\n",
      "\n",
      "Increase the number of iterations (max_iter) or scale the data as shown in:\n",
      "    https://scikit-learn.org/stable/modules/preprocessing.html\n",
      "Please also refer to the documentation for alternative solver options:\n",
      "    https://scikit-learn.org/stable/modules/linear_model.html#logistic-regression\n",
      "  n_iter_i = _check_optimize_result(\n"
     ]
    },
    {
     "data": {
      "text/plain": [
       "Pipeline(steps=[('cv', CountVectorizer()), ('lr', LogisticRegression())])"
      ]
     },
     "execution_count": 90,
     "metadata": {},
     "output_type": "execute_result"
    }
   ],
   "source": [
    "# Train and Fit Data\n",
    "pipe_lr.fit(x_train,y_train)"
   ]
  },
  {
   "cell_type": "code",
   "execution_count": 91,
   "metadata": {},
   "outputs": [
    {
     "data": {
      "text/plain": [
       "Pipeline(steps=[('cv', CountVectorizer()), ('lr', LogisticRegression())])"
      ]
     },
     "execution_count": 91,
     "metadata": {},
     "output_type": "execute_result"
    }
   ],
   "source": [
    "pipe_lr"
   ]
  },
  {
   "cell_type": "code",
   "execution_count": 92,
   "metadata": {},
   "outputs": [
    {
     "data": {
      "text/plain": [
       "0.6865141955835962"
      ]
     },
     "execution_count": 92,
     "metadata": {},
     "output_type": "execute_result"
    }
   ],
   "source": [
    "# Check Accuracy\n",
    "pipe_lr.score(x_test,y_test)"
   ]
  },
  {
   "cell_type": "code",
   "execution_count": 96,
   "metadata": {},
   "outputs": [],
   "source": [
    "# Make A Prediction\n",
    "ex1 = \"emails not coming in from zz mail\""
   ]
  },
  {
   "cell_type": "code",
   "execution_count": 97,
   "metadata": {},
   "outputs": [
    {
     "data": {
      "text/plain": [
       "array(['GRP_X'], dtype=object)"
      ]
     },
     "execution_count": 97,
     "metadata": {},
     "output_type": "execute_result"
    }
   ],
   "source": [
    "pipe_lr.predict([ex1])\n"
   ]
  },
  {
   "cell_type": "code",
   "execution_count": 98,
   "metadata": {},
   "outputs": [
    {
     "data": {
      "text/plain": [
       "array([[0.23484646, 0.0137419 , 0.02571787, 0.01319173, 0.00961136,\n",
       "        0.02506817, 0.01775078, 0.05682188, 0.01835689, 0.01119827,\n",
       "        0.01999079, 0.20479991, 0.01611805, 0.02240698, 0.00895821,\n",
       "        0.00372647, 0.00670323, 0.01246352, 0.01153933, 0.26698821]])"
      ]
     },
     "execution_count": 98,
     "metadata": {},
     "output_type": "execute_result"
    }
   ],
   "source": [
    "# Prediction Prob\n",
    "pipe_lr.predict_proba([ex1])"
   ]
  },
  {
   "cell_type": "code",
   "execution_count": 73,
   "metadata": {},
   "outputs": [
    {
     "data": {
      "text/plain": [
       "array(['GRP_0', 'GRP_10', 'GRP_12', 'GRP_13', 'GRP_14', 'GRP_16',\n",
       "       'GRP_18', 'GRP_19', 'GRP_2', 'GRP_24', 'GRP_25', 'GRP_29', 'GRP_3',\n",
       "       'GRP_33', 'GRP_4', 'GRP_5', 'GRP_6', 'GRP_8', 'GRP_9', 'GRP_X'],\n",
       "      dtype=object)"
      ]
     },
     "execution_count": 73,
     "metadata": {},
     "output_type": "execute_result"
    }
   ],
   "source": [
    "# To Know the classes\n",
    "pipe_lr.classes_"
   ]
  },
  {
   "cell_type": "code",
   "execution_count": 74,
   "metadata": {},
   "outputs": [],
   "source": [
    "# Save Model & Pipeline\n",
    "import joblib\n",
    "pipeline_file = open(\"Capstone_22_07.pkl\",\"wb\")\n",
    "joblib.dump(pipe_lr,pipeline_file)\n",
    "pipeline_file.close()"
   ]
  },
  {
   "cell_type": "markdown",
   "metadata": {},
   "source": [
    "# NB"
   ]
  },
  {
   "cell_type": "code",
   "execution_count": 75,
   "metadata": {},
   "outputs": [],
   "source": [
    "# LogisticRegression Pipeline\n",
    "pipe_lr = Pipeline(steps=[('cv',CountVectorizer()),('NB',MultinomialNB())])"
   ]
  },
  {
   "cell_type": "code",
   "execution_count": 76,
   "metadata": {},
   "outputs": [
    {
     "data": {
      "text/plain": [
       "Pipeline(steps=[('cv', CountVectorizer()), ('NB', MultinomialNB())])"
      ]
     },
     "execution_count": 76,
     "metadata": {},
     "output_type": "execute_result"
    }
   ],
   "source": [
    "# Train and Fit Data\n",
    "pipe_lr.fit(x_train,y_train)"
   ]
  },
  {
   "cell_type": "code",
   "execution_count": 77,
   "metadata": {},
   "outputs": [
    {
     "data": {
      "text/plain": [
       "Pipeline(steps=[('cv', CountVectorizer()), ('NB', MultinomialNB())])"
      ]
     },
     "execution_count": 77,
     "metadata": {},
     "output_type": "execute_result"
    }
   ],
   "source": [
    "pipe_lr"
   ]
  },
  {
   "cell_type": "code",
   "execution_count": 78,
   "metadata": {},
   "outputs": [
    {
     "data": {
      "text/plain": [
       "0.6474763406940063"
      ]
     },
     "execution_count": 78,
     "metadata": {},
     "output_type": "execute_result"
    }
   ],
   "source": [
    "# Check Accuracy\n",
    "pipe_lr.score(x_test,y_test)"
   ]
  },
  {
   "cell_type": "code",
   "execution_count": 79,
   "metadata": {},
   "outputs": [],
   "source": [
    "# Make A Prediction\n",
    "ex1 = \"unable access hr_tool page\""
   ]
  },
  {
   "cell_type": "code",
   "execution_count": 71,
   "metadata": {},
   "outputs": [
    {
     "data": {
      "text/plain": [
       "array(['GRP_0'], dtype=object)"
      ]
     },
     "execution_count": 71,
     "metadata": {},
     "output_type": "execute_result"
    }
   ],
   "source": [
    "pipe_lr.predict([ex1])\n"
   ]
  },
  {
   "cell_type": "code",
   "execution_count": 72,
   "metadata": {},
   "outputs": [
    {
     "data": {
      "text/plain": [
       "array([[9.06536812e-01, 4.67641613e-04, 9.86773804e-03, 8.41701036e-04,\n",
       "        7.07529046e-04, 5.58127668e-03, 4.08998712e-04, 3.34253116e-03,\n",
       "        4.76285869e-02, 8.09090250e-04, 3.85371739e-03, 1.44346721e-03,\n",
       "        1.63068278e-03, 4.81828069e-04, 1.53316723e-03, 1.64723313e-04,\n",
       "        6.51147337e-04, 2.54426540e-04, 2.09402898e-04, 1.35855314e-02]])"
      ]
     },
     "execution_count": 72,
     "metadata": {},
     "output_type": "execute_result"
    }
   ],
   "source": [
    "# Prediction Prob\n",
    "pipe_lr.predict_proba([ex1])"
   ]
  },
  {
   "cell_type": "code",
   "execution_count": 73,
   "metadata": {},
   "outputs": [
    {
     "data": {
      "text/plain": [
       "array(['GRP_0', 'GRP_10', 'GRP_12', 'GRP_13', 'GRP_14', 'GRP_16',\n",
       "       'GRP_18', 'GRP_19', 'GRP_2', 'GRP_24', 'GRP_25', 'GRP_29', 'GRP_3',\n",
       "       'GRP_33', 'GRP_4', 'GRP_5', 'GRP_6', 'GRP_8', 'GRP_9', 'GRP_X'],\n",
       "      dtype=object)"
      ]
     },
     "execution_count": 73,
     "metadata": {},
     "output_type": "execute_result"
    }
   ],
   "source": [
    "# To Know the classes\n",
    "pipe_lr.classes_"
   ]
  },
  {
   "cell_type": "markdown",
   "metadata": {},
   "source": [
    "# Decision Tree"
   ]
  },
  {
   "cell_type": "code",
   "execution_count": 80,
   "metadata": {},
   "outputs": [],
   "source": [
    "from sklearn.tree import DecisionTreeClassifier"
   ]
  },
  {
   "cell_type": "code",
   "execution_count": 81,
   "metadata": {},
   "outputs": [],
   "source": [
    "# LogisticRegression Pipeline\n",
    "pipe_dtc = Pipeline(steps=[('cv',CountVectorizer()),('DTC',DecisionTreeClassifier(criterion = \"gini\", random_state = 100,max_depth=3, min_samples_leaf=5))])"
   ]
  },
  {
   "cell_type": "code",
   "execution_count": 82,
   "metadata": {},
   "outputs": [
    {
     "data": {
      "text/plain": [
       "Pipeline(steps=[('cv', CountVectorizer()),\n",
       "                ('DTC',\n",
       "                 DecisionTreeClassifier(max_depth=3, min_samples_leaf=5,\n",
       "                                        random_state=100))])"
      ]
     },
     "execution_count": 82,
     "metadata": {},
     "output_type": "execute_result"
    }
   ],
   "source": [
    "# Train and Fit Data\n",
    "pipe_dtc.fit(x_train,y_train)"
   ]
  },
  {
   "cell_type": "code",
   "execution_count": 83,
   "metadata": {},
   "outputs": [
    {
     "data": {
      "text/plain": [
       "Pipeline(steps=[('cv', CountVectorizer()),\n",
       "                ('DTC',\n",
       "                 DecisionTreeClassifier(max_depth=3, min_samples_leaf=5,\n",
       "                                        random_state=100))])"
      ]
     },
     "execution_count": 83,
     "metadata": {},
     "output_type": "execute_result"
    }
   ],
   "source": [
    "pipe_dtc"
   ]
  },
  {
   "cell_type": "code",
   "execution_count": 84,
   "metadata": {},
   "outputs": [
    {
     "data": {
      "text/plain": [
       "0.5619085173501577"
      ]
     },
     "execution_count": 84,
     "metadata": {},
     "output_type": "execute_result"
    }
   ],
   "source": [
    "# Check Accuracy\n",
    "pipe_dtc.score(x_test,y_test)"
   ]
  },
  {
   "cell_type": "code",
   "execution_count": 85,
   "metadata": {},
   "outputs": [],
   "source": [
    "# Make A Prediction\n",
    "ex1 = \"unable access hr_tool page\""
   ]
  },
  {
   "cell_type": "code",
   "execution_count": 86,
   "metadata": {},
   "outputs": [
    {
     "data": {
      "text/plain": [
       "array(['GRP_0'], dtype=object)"
      ]
     },
     "execution_count": 86,
     "metadata": {},
     "output_type": "execute_result"
    }
   ],
   "source": [
    "pipe_dtc.predict([ex1])\n"
   ]
  },
  {
   "cell_type": "code",
   "execution_count": 87,
   "metadata": {},
   "outputs": [
    {
     "data": {
      "text/plain": [
       "array([[0.54798885, 0.00975707, 0.0342493 , 0.02070888, 0.01612903,\n",
       "        0.01314217, 0.0125448 , 0.02807646, 0.03345281, 0.02489048,\n",
       "        0.01772202, 0.01493429, 0.02887296, 0.01433692, 0.01095181,\n",
       "        0.00199124, 0.00736758, 0.01135006, 0.00876145, 0.1427718 ]])"
      ]
     },
     "execution_count": 87,
     "metadata": {},
     "output_type": "execute_result"
    }
   ],
   "source": [
    "# Prediction Prob\n",
    "pipe_dtc.predict_proba([ex1])"
   ]
  },
  {
   "cell_type": "code",
   "execution_count": 88,
   "metadata": {},
   "outputs": [
    {
     "data": {
      "text/plain": [
       "array(['GRP_0', 'GRP_10', 'GRP_12', 'GRP_13', 'GRP_14', 'GRP_16',\n",
       "       'GRP_18', 'GRP_19', 'GRP_2', 'GRP_24', 'GRP_25', 'GRP_29', 'GRP_3',\n",
       "       'GRP_33', 'GRP_4', 'GRP_5', 'GRP_6', 'GRP_8', 'GRP_9', 'GRP_X'],\n",
       "      dtype=object)"
      ]
     },
     "execution_count": 88,
     "metadata": {},
     "output_type": "execute_result"
    }
   ],
   "source": [
    "# To Know the classes\n",
    "pipe_dtc.classes_"
   ]
  },
  {
   "cell_type": "code",
   "execution_count": null,
   "metadata": {},
   "outputs": [],
   "source": []
  },
  {
   "cell_type": "markdown",
   "metadata": {},
   "source": [
    "# using all labels"
   ]
  },
  {
   "cell_type": "code",
   "execution_count": 99,
   "metadata": {},
   "outputs": [],
   "source": [
    "Xfeatures = df['text_clean']\n",
    "ylabels = df['Assignment group']"
   ]
  },
  {
   "cell_type": "code",
   "execution_count": 100,
   "metadata": {},
   "outputs": [],
   "source": [
    "#  Split Data\n",
    "x_train,x_test,y_train,y_test = train_test_split(Xfeatures,ylabels,test_size=0.3,random_state=42)"
   ]
  },
  {
   "cell_type": "code",
   "execution_count": 101,
   "metadata": {},
   "outputs": [],
   "source": [
    "# Build Pipeline\n",
    "from sklearn.pipeline import Pipeline"
   ]
  },
  {
   "cell_type": "code",
   "execution_count": 108,
   "metadata": {},
   "outputs": [],
   "source": [
    "# LogisticRegression Pipeline\n",
    "pipe_lr = Pipeline(steps=[('cv',CountVectorizer()),('lr',LogisticRegression(max_iter=1000))])"
   ]
  },
  {
   "cell_type": "code",
   "execution_count": 109,
   "metadata": {},
   "outputs": [
    {
     "data": {
      "text/plain": [
       "Pipeline(steps=[('cv', CountVectorizer()),\n",
       "                ('lr', LogisticRegression(max_iter=1000))])"
      ]
     },
     "execution_count": 109,
     "metadata": {},
     "output_type": "execute_result"
    }
   ],
   "source": [
    "# Train and Fit Data\n",
    "pipe_lr.fit(x_train,y_train)"
   ]
  },
  {
   "cell_type": "code",
   "execution_count": 110,
   "metadata": {},
   "outputs": [
    {
     "data": {
      "text/plain": [
       "Pipeline(steps=[('cv', CountVectorizer()),\n",
       "                ('lr', LogisticRegression(max_iter=1000))])"
      ]
     },
     "execution_count": 110,
     "metadata": {},
     "output_type": "execute_result"
    }
   ],
   "source": [
    "pipe_lr"
   ]
  },
  {
   "cell_type": "code",
   "execution_count": 111,
   "metadata": {},
   "outputs": [
    {
     "data": {
      "text/plain": [
       "0.6782334384858044"
      ]
     },
     "execution_count": 111,
     "metadata": {},
     "output_type": "execute_result"
    }
   ],
   "source": [
    "# Check Accuracy\n",
    "pipe_lr.score(x_test,y_test)"
   ]
  },
  {
   "cell_type": "code",
   "execution_count": 112,
   "metadata": {},
   "outputs": [],
   "source": [
    "# Make A Prediction\n",
    "ex1 = \"emails not coming in from zz mail\""
   ]
  },
  {
   "cell_type": "code",
   "execution_count": 113,
   "metadata": {},
   "outputs": [
    {
     "data": {
      "text/plain": [
       "array(['GRP_0'], dtype=object)"
      ]
     },
     "execution_count": 113,
     "metadata": {},
     "output_type": "execute_result"
    }
   ],
   "source": [
    "pipe_lr.predict([ex1])\n"
   ]
  },
  {
   "cell_type": "code",
   "execution_count": 114,
   "metadata": {},
   "outputs": [
    {
     "data": {
      "text/plain": [
       "array([[0.21772602, 0.00512956, 0.01458294, 0.00543138, 0.02713168,\n",
       "        0.01316889, 0.01017577, 0.00994516, 0.02634303, 0.00059198,\n",
       "        0.01816568, 0.05828189, 0.01826429, 0.00926604, 0.00445629,\n",
       "        0.00270709, 0.00198508, 0.0119062 , 0.02088667, 0.0700856 ,\n",
       "        0.01013492, 0.01015681, 0.20704652, 0.01669286, 0.00860314,\n",
       "        0.01309871, 0.00124581, 0.02297645, 0.01323532, 0.00281056,\n",
       "        0.00295049, 0.00088947, 0.00335101, 0.00947358, 0.01277705,\n",
       "        0.00719241, 0.00716053, 0.00141012, 0.00290587, 0.00612555,\n",
       "        0.00211061, 0.00396882, 0.00113635, 0.00166094, 0.0040843 ,\n",
       "        0.00370154, 0.00127577, 0.00260318, 0.00222973, 0.00092255,\n",
       "        0.00181496, 0.00122423, 0.00063282, 0.0005874 , 0.00119069,\n",
       "        0.00721285, 0.00226088, 0.00047641, 0.00761771, 0.00048726,\n",
       "        0.00048132, 0.00252598, 0.00110201, 0.00117075, 0.0140057 ,\n",
       "        0.00054099, 0.00103168, 0.01337623, 0.0120979 ]])"
      ]
     },
     "execution_count": 114,
     "metadata": {},
     "output_type": "execute_result"
    }
   ],
   "source": [
    "# Prediction Prob\n",
    "pipe_lr.predict_proba([ex1])"
   ]
  },
  {
   "cell_type": "code",
   "execution_count": 117,
   "metadata": {},
   "outputs": [
    {
     "data": {
      "text/plain": [
       "array(['GRP_0', 'GRP_1', 'GRP_10', 'GRP_11', 'GRP_12', 'GRP_13', 'GRP_14',\n",
       "       'GRP_15', 'GRP_16', 'GRP_17', 'GRP_18', 'GRP_19', 'GRP_2',\n",
       "       'GRP_20', 'GRP_21', 'GRP_22', 'GRP_23', 'GRP_24', 'GRP_25',\n",
       "       'GRP_26', 'GRP_27', 'GRP_28', 'GRP_29', 'GRP_3', 'GRP_30',\n",
       "       'GRP_31', 'GRP_32', 'GRP_33', 'GRP_34', 'GRP_36', 'GRP_37',\n",
       "       'GRP_38', 'GRP_39', 'GRP_4', 'GRP_40', 'GRP_41', 'GRP_42',\n",
       "       'GRP_43', 'GRP_44', 'GRP_45', 'GRP_46', 'GRP_47', 'GRP_48',\n",
       "       'GRP_49', 'GRP_5', 'GRP_50', 'GRP_51', 'GRP_52', 'GRP_53',\n",
       "       'GRP_54', 'GRP_55', 'GRP_56', 'GRP_57', 'GRP_58', 'GRP_59',\n",
       "       'GRP_6', 'GRP_60', 'GRP_61', 'GRP_62', 'GRP_63', 'GRP_64',\n",
       "       'GRP_65', 'GRP_66', 'GRP_68', 'GRP_7', 'GRP_71', 'GRP_72', 'GRP_8',\n",
       "       'GRP_9'], dtype=object)"
      ]
     },
     "execution_count": 117,
     "metadata": {},
     "output_type": "execute_result"
    }
   ],
   "source": [
    "# To Know the classes\n",
    "pipe_lr.classes_"
   ]
  },
  {
   "cell_type": "code",
   "execution_count": null,
   "metadata": {},
   "outputs": [],
   "source": []
  },
  {
   "cell_type": "code",
   "execution_count": null,
   "metadata": {},
   "outputs": [],
   "source": []
  },
  {
   "cell_type": "markdown",
   "metadata": {},
   "source": [
    "# Adding both short & Long description"
   ]
  },
  {
   "cell_type": "code",
   "execution_count": 134,
   "metadata": {},
   "outputs": [],
   "source": [
    "df['concat'] = df['Short description'] +''+ df['Description']"
   ]
  },
  {
   "cell_type": "code",
   "execution_count": 135,
   "metadata": {},
   "outputs": [],
   "source": [
    "df2 = df.copy()"
   ]
  },
  {
   "cell_type": "code",
   "execution_count": 142,
   "metadata": {},
   "outputs": [],
   "source": [
    "from nltk.corpus import stopwords"
   ]
  },
  {
   "cell_type": "code",
   "execution_count": 143,
   "metadata": {},
   "outputs": [],
   "source": [
    "desc_col='concat'\n",
    "#Data cleaning \n",
    "\n",
    "#lower case, only alphabets, remove spaces, remove stopwords\n",
    "df2['text_clean'] = df2[desc_col].apply(lambda x: str(x).lower())\n",
    "df2['text_clean'] = df2['text_clean'].apply(lambda x: re.sub('[^a-zA-z0-9_\\s]','',str(x)))\n",
    "stopwords = set(stopwords.words('english'))\n",
    "df2['text_clean'] = df2['text_clean'].apply(lambda x: ' '.join([word for word in x.split() if word not in stopwords]))\n",
    "df2['text_clean'] = df2['text_clean'].apply(lambda x: str(x).strip())"
   ]
  },
  {
   "cell_type": "code",
   "execution_count": 144,
   "metadata": {},
   "outputs": [],
   "source": [
    "Xfeatures = df['text_clean']\n",
    "ylabels = df['Assignment group']"
   ]
  },
  {
   "cell_type": "code",
   "execution_count": 145,
   "metadata": {},
   "outputs": [],
   "source": [
    "#  Split Data\n",
    "x_train,x_test,y_train,y_test = train_test_split(Xfeatures,ylabels,test_size=0.3,random_state=42)"
   ]
  },
  {
   "cell_type": "code",
   "execution_count": 146,
   "metadata": {},
   "outputs": [],
   "source": [
    "# Build Pipeline\n",
    "from sklearn.pipeline import Pipeline"
   ]
  },
  {
   "cell_type": "code",
   "execution_count": 156,
   "metadata": {},
   "outputs": [],
   "source": [
    "# LogisticRegression Pipeline\n",
    "pipe_lr = Pipeline(steps=[('cv',CountVectorizer()),('lr',LogisticRegression(max_iter = 1000))])"
   ]
  },
  {
   "cell_type": "code",
   "execution_count": 157,
   "metadata": {},
   "outputs": [
    {
     "data": {
      "text/plain": [
       "Pipeline(steps=[('cv', CountVectorizer()),\n",
       "                ('lr', LogisticRegression(max_iter=1000))])"
      ]
     },
     "execution_count": 157,
     "metadata": {},
     "output_type": "execute_result"
    }
   ],
   "source": [
    "# Train and Fit Data\n",
    "pipe_lr.fit(x_train,y_train)"
   ]
  },
  {
   "cell_type": "code",
   "execution_count": 158,
   "metadata": {},
   "outputs": [
    {
     "data": {
      "text/plain": [
       "Pipeline(steps=[('cv', CountVectorizer()),\n",
       "                ('lr', LogisticRegression(max_iter=1000))])"
      ]
     },
     "execution_count": 158,
     "metadata": {},
     "output_type": "execute_result"
    }
   ],
   "source": [
    "pipe_lr"
   ]
  },
  {
   "cell_type": "code",
   "execution_count": 159,
   "metadata": {},
   "outputs": [
    {
     "data": {
      "text/plain": [
       "0.6782334384858044"
      ]
     },
     "execution_count": 159,
     "metadata": {},
     "output_type": "execute_result"
    }
   ],
   "source": [
    "# Check Accuracy\n",
    "pipe_lr.score(x_test,y_test)"
   ]
  },
  {
   "cell_type": "code",
   "execution_count": 160,
   "metadata": {},
   "outputs": [],
   "source": [
    "# Make A Prediction\n",
    "ex1 = \"emails not coming in from zz mail\""
   ]
  },
  {
   "cell_type": "code",
   "execution_count": 161,
   "metadata": {},
   "outputs": [
    {
     "data": {
      "text/plain": [
       "array(['GRP_0'], dtype=object)"
      ]
     },
     "execution_count": 161,
     "metadata": {},
     "output_type": "execute_result"
    }
   ],
   "source": [
    "pipe_lr.predict([ex1])\n"
   ]
  },
  {
   "cell_type": "code",
   "execution_count": 162,
   "metadata": {},
   "outputs": [
    {
     "data": {
      "text/plain": [
       "array([[0.21772602, 0.00512956, 0.01458294, 0.00543138, 0.02713168,\n",
       "        0.01316889, 0.01017577, 0.00994516, 0.02634303, 0.00059198,\n",
       "        0.01816568, 0.05828189, 0.01826429, 0.00926604, 0.00445629,\n",
       "        0.00270709, 0.00198508, 0.0119062 , 0.02088667, 0.0700856 ,\n",
       "        0.01013492, 0.01015681, 0.20704652, 0.01669286, 0.00860314,\n",
       "        0.01309871, 0.00124581, 0.02297645, 0.01323532, 0.00281056,\n",
       "        0.00295049, 0.00088947, 0.00335101, 0.00947358, 0.01277705,\n",
       "        0.00719241, 0.00716053, 0.00141012, 0.00290587, 0.00612555,\n",
       "        0.00211061, 0.00396882, 0.00113635, 0.00166094, 0.0040843 ,\n",
       "        0.00370154, 0.00127577, 0.00260318, 0.00222973, 0.00092255,\n",
       "        0.00181496, 0.00122423, 0.00063282, 0.0005874 , 0.00119069,\n",
       "        0.00721285, 0.00226088, 0.00047641, 0.00761771, 0.00048726,\n",
       "        0.00048132, 0.00252598, 0.00110201, 0.00117075, 0.0140057 ,\n",
       "        0.00054099, 0.00103168, 0.01337623, 0.0120979 ]])"
      ]
     },
     "execution_count": 162,
     "metadata": {},
     "output_type": "execute_result"
    }
   ],
   "source": [
    "# Prediction Prob\n",
    "pipe_lr.predict_proba([ex1])"
   ]
  },
  {
   "cell_type": "code",
   "execution_count": 154,
   "metadata": {},
   "outputs": [
    {
     "data": {
      "text/plain": [
       "array(['GRP_0', 'GRP_1', 'GRP_10', 'GRP_11', 'GRP_12', 'GRP_13', 'GRP_14',\n",
       "       'GRP_15', 'GRP_16', 'GRP_17', 'GRP_18', 'GRP_19', 'GRP_2',\n",
       "       'GRP_20', 'GRP_21', 'GRP_22', 'GRP_23', 'GRP_24', 'GRP_25',\n",
       "       'GRP_26', 'GRP_27', 'GRP_28', 'GRP_29', 'GRP_3', 'GRP_30',\n",
       "       'GRP_31', 'GRP_32', 'GRP_33', 'GRP_34', 'GRP_36', 'GRP_37',\n",
       "       'GRP_38', 'GRP_39', 'GRP_4', 'GRP_40', 'GRP_41', 'GRP_42',\n",
       "       'GRP_43', 'GRP_44', 'GRP_45', 'GRP_46', 'GRP_47', 'GRP_48',\n",
       "       'GRP_49', 'GRP_5', 'GRP_50', 'GRP_51', 'GRP_52', 'GRP_53',\n",
       "       'GRP_54', 'GRP_55', 'GRP_56', 'GRP_57', 'GRP_58', 'GRP_59',\n",
       "       'GRP_6', 'GRP_60', 'GRP_61', 'GRP_62', 'GRP_63', 'GRP_64',\n",
       "       'GRP_65', 'GRP_66', 'GRP_68', 'GRP_7', 'GRP_71', 'GRP_72', 'GRP_8',\n",
       "       'GRP_9'], dtype=object)"
      ]
     },
     "execution_count": 154,
     "metadata": {},
     "output_type": "execute_result"
    }
   ],
   "source": [
    "# To Know the classes\n",
    "pipe_lr.classes_"
   ]
  },
  {
   "cell_type": "code",
   "execution_count": 155,
   "metadata": {
    "scrolled": true
   },
   "outputs": [
    {
     "data": {
      "text/html": [
       "<div>\n",
       "<style scoped>\n",
       "    .dataframe tbody tr th:only-of-type {\n",
       "        vertical-align: middle;\n",
       "    }\n",
       "\n",
       "    .dataframe tbody tr th {\n",
       "        vertical-align: top;\n",
       "    }\n",
       "\n",
       "    .dataframe thead th {\n",
       "        text-align: right;\n",
       "    }\n",
       "</style>\n",
       "<table border=\"1\" class=\"dataframe\">\n",
       "  <thead>\n",
       "    <tr style=\"text-align: right;\">\n",
       "      <th></th>\n",
       "      <th>Short description</th>\n",
       "      <th>Description</th>\n",
       "      <th>Caller</th>\n",
       "      <th>Assignment group</th>\n",
       "      <th>text_clean</th>\n",
       "      <th>Length</th>\n",
       "      <th>updated_group</th>\n",
       "      <th>concat</th>\n",
       "    </tr>\n",
       "  </thead>\n",
       "  <tbody>\n",
       "    <tr>\n",
       "      <th>0</th>\n",
       "      <td>login issue</td>\n",
       "      <td>-verified user details.(employee# &amp; manager na...</td>\n",
       "      <td>spxjnwir pjlcoqds</td>\n",
       "      <td>GRP_0</td>\n",
       "      <td>login issueverified user detailsemployee manag...</td>\n",
       "      <td>11</td>\n",
       "      <td>GRP_0</td>\n",
       "      <td>login issue-verified user details.(employee# &amp;...</td>\n",
       "    </tr>\n",
       "    <tr>\n",
       "      <th>1</th>\n",
       "      <td>outlook</td>\n",
       "      <td>\\r\\n\\r\\nreceived from: hmjdrvpb.komuaywn@gmail...</td>\n",
       "      <td>hmjdrvpb komuaywn</td>\n",
       "      <td>GRP_0</td>\n",
       "      <td>outlook received hmjdrvpbkomuaywngmailcom hell...</td>\n",
       "      <td>7</td>\n",
       "      <td>GRP_0</td>\n",
       "      <td>outlook\\r\\n\\r\\nreceived from: hmjdrvpb.komuayw...</td>\n",
       "    </tr>\n",
       "    <tr>\n",
       "      <th>2</th>\n",
       "      <td>cant log in to vpn</td>\n",
       "      <td>\\r\\n\\r\\nreceived from: eylqgodm.ybqkwiam@gmail...</td>\n",
       "      <td>eylqgodm ybqkwiam</td>\n",
       "      <td>GRP_0</td>\n",
       "      <td>cant log vpn received eylqgodmybqkwiamgmailcom...</td>\n",
       "      <td>12</td>\n",
       "      <td>GRP_0</td>\n",
       "      <td>cant log in to vpn\\r\\n\\r\\nreceived from: eylqg...</td>\n",
       "    </tr>\n",
       "    <tr>\n",
       "      <th>3</th>\n",
       "      <td>unable to access hr_tool page</td>\n",
       "      <td>unable to access hr_tool page</td>\n",
       "      <td>xbkucsvz gcpydteq</td>\n",
       "      <td>GRP_0</td>\n",
       "      <td>unable access hr_tool pageunable access hr_too...</td>\n",
       "      <td>26</td>\n",
       "      <td>GRP_0</td>\n",
       "      <td>unable to access hr_tool pageunable to access ...</td>\n",
       "    </tr>\n",
       "    <tr>\n",
       "      <th>4</th>\n",
       "      <td>skype error</td>\n",
       "      <td>skype error</td>\n",
       "      <td>owlgqjme qhcozdfx</td>\n",
       "      <td>GRP_0</td>\n",
       "      <td>skype error skype error</td>\n",
       "      <td>11</td>\n",
       "      <td>GRP_0</td>\n",
       "      <td>skype error skype error</td>\n",
       "    </tr>\n",
       "    <tr>\n",
       "      <th>...</th>\n",
       "      <td>...</td>\n",
       "      <td>...</td>\n",
       "      <td>...</td>\n",
       "      <td>...</td>\n",
       "      <td>...</td>\n",
       "      <td>...</td>\n",
       "      <td>...</td>\n",
       "      <td>...</td>\n",
       "    </tr>\n",
       "    <tr>\n",
       "      <th>8495</th>\n",
       "      <td>emails not coming in from zz mail</td>\n",
       "      <td>\\r\\n\\r\\nreceived from: avglmrts.vhqmtiua@gmail...</td>\n",
       "      <td>avglmrts vhqmtiua</td>\n",
       "      <td>GRP_29</td>\n",
       "      <td>emails coming zz mail received avglmrtsvhqmtiu...</td>\n",
       "      <td>21</td>\n",
       "      <td>GRP_29</td>\n",
       "      <td>emails not coming in from zz mail\\r\\n\\r\\nrecei...</td>\n",
       "    </tr>\n",
       "    <tr>\n",
       "      <th>8496</th>\n",
       "      <td>telephony_software issue</td>\n",
       "      <td>telephony_software issue</td>\n",
       "      <td>rbozivdq gmlhrtvp</td>\n",
       "      <td>GRP_0</td>\n",
       "      <td>telephony_software issuetelephony_software issue</td>\n",
       "      <td>24</td>\n",
       "      <td>GRP_0</td>\n",
       "      <td>telephony_software issuetelephony_software issue</td>\n",
       "    </tr>\n",
       "    <tr>\n",
       "      <th>8497</th>\n",
       "      <td>vip2: windows password reset for tifpdchb pedx...</td>\n",
       "      <td>vip2: windows password reset for tifpdchb pedx...</td>\n",
       "      <td>oybwdsgx oxyhwrfz</td>\n",
       "      <td>GRP_0</td>\n",
       "      <td>vip2 windows password reset tifpdchb pedxruyfv...</td>\n",
       "      <td>45</td>\n",
       "      <td>GRP_0</td>\n",
       "      <td>vip2: windows password reset for tifpdchb pedx...</td>\n",
       "    </tr>\n",
       "    <tr>\n",
       "      <th>8498</th>\n",
       "      <td>machine nÃ£o estÃ¡ funcionando</td>\n",
       "      <td>i am unable to access the machine utilities to...</td>\n",
       "      <td>ufawcgob aowhxjky</td>\n",
       "      <td>GRP_62</td>\n",
       "      <td>machine est funcionandoi unable access machine...</td>\n",
       "      <td>23</td>\n",
       "      <td>GRP_X</td>\n",
       "      <td>machine nÃ£o estÃ¡ funcionandoi am unable to a...</td>\n",
       "    </tr>\n",
       "    <tr>\n",
       "      <th>8499</th>\n",
       "      <td>an mehreren pc`s lassen sich verschiedene prgr...</td>\n",
       "      <td>an mehreren pc`s lassen sich verschiedene prgr...</td>\n",
       "      <td>kqvbrspl jyzoklfx</td>\n",
       "      <td>GRP_49</td>\n",
       "      <td>mehreren pc`s lassen sich verschiedene prgramd...</td>\n",
       "      <td>63</td>\n",
       "      <td>GRP_X</td>\n",
       "      <td>an mehreren pc`s lassen sich verschiedene prgr...</td>\n",
       "    </tr>\n",
       "  </tbody>\n",
       "</table>\n",
       "<p>8453 rows × 8 columns</p>\n",
       "</div>"
      ],
      "text/plain": [
       "                                      Short description  \\\n",
       "0                                           login issue   \n",
       "1                                               outlook   \n",
       "2                                    cant log in to vpn   \n",
       "3                         unable to access hr_tool page   \n",
       "4                                          skype error    \n",
       "...                                                 ...   \n",
       "8495                  emails not coming in from zz mail   \n",
       "8496                           telephony_software issue   \n",
       "8497  vip2: windows password reset for tifpdchb pedx...   \n",
       "8498                     machine nÃ£o estÃ¡ funcionando   \n",
       "8499  an mehreren pc`s lassen sich verschiedene prgr...   \n",
       "\n",
       "                                            Description             Caller  \\\n",
       "0     -verified user details.(employee# & manager na...  spxjnwir pjlcoqds   \n",
       "1     \\r\\n\\r\\nreceived from: hmjdrvpb.komuaywn@gmail...  hmjdrvpb komuaywn   \n",
       "2     \\r\\n\\r\\nreceived from: eylqgodm.ybqkwiam@gmail...  eylqgodm ybqkwiam   \n",
       "3                         unable to access hr_tool page  xbkucsvz gcpydteq   \n",
       "4                                          skype error   owlgqjme qhcozdfx   \n",
       "...                                                 ...                ...   \n",
       "8495  \\r\\n\\r\\nreceived from: avglmrts.vhqmtiua@gmail...  avglmrts vhqmtiua   \n",
       "8496                           telephony_software issue  rbozivdq gmlhrtvp   \n",
       "8497  vip2: windows password reset for tifpdchb pedx...  oybwdsgx oxyhwrfz   \n",
       "8498  i am unable to access the machine utilities to...  ufawcgob aowhxjky   \n",
       "8499  an mehreren pc`s lassen sich verschiedene prgr...  kqvbrspl jyzoklfx   \n",
       "\n",
       "     Assignment group                                         text_clean  \\\n",
       "0               GRP_0  login issueverified user detailsemployee manag...   \n",
       "1               GRP_0  outlook received hmjdrvpbkomuaywngmailcom hell...   \n",
       "2               GRP_0  cant log vpn received eylqgodmybqkwiamgmailcom...   \n",
       "3               GRP_0  unable access hr_tool pageunable access hr_too...   \n",
       "4               GRP_0                            skype error skype error   \n",
       "...               ...                                                ...   \n",
       "8495           GRP_29  emails coming zz mail received avglmrtsvhqmtiu...   \n",
       "8496            GRP_0   telephony_software issuetelephony_software issue   \n",
       "8497            GRP_0  vip2 windows password reset tifpdchb pedxruyfv...   \n",
       "8498           GRP_62  machine est funcionandoi unable access machine...   \n",
       "8499           GRP_49  mehreren pc`s lassen sich verschiedene prgramd...   \n",
       "\n",
       "      Length updated_group                                             concat  \n",
       "0         11         GRP_0  login issue-verified user details.(employee# &...  \n",
       "1          7         GRP_0  outlook\\r\\n\\r\\nreceived from: hmjdrvpb.komuayw...  \n",
       "2         12         GRP_0  cant log in to vpn\\r\\n\\r\\nreceived from: eylqg...  \n",
       "3         26         GRP_0  unable to access hr_tool pageunable to access ...  \n",
       "4         11         GRP_0                           skype error skype error   \n",
       "...      ...           ...                                                ...  \n",
       "8495      21        GRP_29  emails not coming in from zz mail\\r\\n\\r\\nrecei...  \n",
       "8496      24         GRP_0   telephony_software issuetelephony_software issue  \n",
       "8497      45         GRP_0  vip2: windows password reset for tifpdchb pedx...  \n",
       "8498      23         GRP_X  machine nÃ£o estÃ¡ funcionandoi am unable to a...  \n",
       "8499      63         GRP_X  an mehreren pc`s lassen sich verschiedene prgr...  \n",
       "\n",
       "[8453 rows x 8 columns]"
      ]
     },
     "execution_count": 155,
     "metadata": {},
     "output_type": "execute_result"
    }
   ],
   "source": [
    "df2"
   ]
  },
  {
   "cell_type": "code",
   "execution_count": null,
   "metadata": {},
   "outputs": [],
   "source": []
  }
 ],
 "metadata": {
  "kernelspec": {
   "display_name": "Python 3 (ipykernel)",
   "language": "python",
   "name": "python3"
  },
  "language_info": {
   "codemirror_mode": {
    "name": "ipython",
    "version": 3
   },
   "file_extension": ".py",
   "mimetype": "text/x-python",
   "name": "python",
   "nbconvert_exporter": "python",
   "pygments_lexer": "ipython3",
   "version": "3.9.12"
  }
 },
 "nbformat": 4,
 "nbformat_minor": 4
}
