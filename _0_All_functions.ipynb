{
 "cells": [
  {
   "cell_type": "markdown",
   "metadata": {},
   "source": [
    "# Functions"
   ]
  },
  {
   "cell_type": "code",
   "execution_count": null,
   "metadata": {},
   "outputs": [],
   "source": []
  },
  {
   "cell_type": "markdown",
   "metadata": {},
   "source": [
    "## EDA Functions"
   ]
  },
  {
   "cell_type": "markdown",
   "metadata": {},
   "source": [
    "Visualize_Word_Cloud: This function gives word cloud for any given dataset (with or without filter)<br>\n",
    "\n",
    "Inputs:<br>\n",
    "dataset: Name of data<br>\n",
    "text_col: text column to analyse to generate WordCloud<br>\n",
    "filter_column: if we want to subset data (eg - I have used it for Assignment group - for words freq of diff group)<br>\n",
    "filter_value: to specify condition for filter_column (eg: GRP_0 etc.)<br>\n",
    "plot_freq: default is 1 - gives freq of top 10 words<br>\n",
    "plot_wordCloud: default is 0 - gives image of word cloud<br>"
   ]
  },
  {
   "cell_type": "code",
   "execution_count": 7,
   "metadata": {},
   "outputs": [],
   "source": [
    "def Visualize_Word_Cloud(dataset, text_col=\"text_clean\",filter_column=\"NA\", filter_value=\"NA\",plot_freq=1,plot_wordCloud=0):\n",
    "    from wordcloud import WordCloud, STOPWORDS\n",
    "    stopwords = set(STOPWORDS)\n",
    "    data=dataset.copy()\n",
    "    if filter_value!=\"NA\":\n",
    "        data=dataset[dataset[filter_column]==filter_value]\n",
    "    print(data.shape)\n",
    "    # iterate through the csv file\n",
    "    comment_words = \" \"\n",
    "    for val in data[text_col]:\n",
    "     \n",
    "    # typecaste each val to string\n",
    "        val = str(val)\n",
    " \n",
    "    # split the value\n",
    "        tokens = val.split()\n",
    "       \n",
    "    # Converts each token into lowercase\n",
    "        for i in range(len(tokens)):\n",
    "            tokens[i] = tokens[i].lower()\n",
    "     \n",
    "            comment_words += \" \".join(tokens)+\" \"\n",
    " \n",
    "    wordcloud = WordCloud(width = 800, height = 800,\n",
    "                background_color ='white',\n",
    "                stopwords = stopwords,\n",
    "                min_font_size = 10).generate(comment_words)\n",
    "    #use words_ to print relative word frequencies\n",
    "    rel_freq=wordcloud.words_\n",
    "   \n",
    "    if plot_freq==1:\n",
    "    #print(list(rel_freq.items())[:10])\n",
    "        if filter_value!=\"NA\":\n",
    "            txt=text_col+\" \"+filter_column+\"=\"+filter_value\n",
    "        else:\n",
    "            txt=text_col\n",
    "        names = list(rel_freq.keys())\n",
    "        values = list(rel_freq.values())\n",
    "        #plt.rcParams[\"figure.figsize\"] = (10, 5)\n",
    "        plt.bar(range(20), values[:20], tick_label=names[:20])\n",
    "        plt.xticks(rotation=90)\n",
    "        plt.title(txt)\n",
    "        plt.show()\n",
    "    \n",
    "    if plot_wordCloud==1:\n",
    "# plot the WordCloud image                      \n",
    "        plt.figure(figsize = (8, 8), facecolor = None)\n",
    "        plt.imshow(wordcloud)\n",
    "        plt.axis(\"off\")\n",
    "        plt.tight_layout(pad = 0)\n",
    "        plt.show()\n"
   ]
  },
  {
   "cell_type": "code",
   "execution_count": null,
   "metadata": {},
   "outputs": [],
   "source": []
  }
 ],
 "metadata": {
  "kernelspec": {
   "display_name": "Python 3",
   "language": "python",
   "name": "python3"
  },
  "language_info": {
   "codemirror_mode": {
    "name": "ipython",
    "version": 3
   },
   "file_extension": ".py",
   "mimetype": "text/x-python",
   "name": "python",
   "nbconvert_exporter": "python",
   "pygments_lexer": "ipython3",
   "version": "3.7.0"
  }
 },
 "nbformat": 4,
 "nbformat_minor": 2
}
